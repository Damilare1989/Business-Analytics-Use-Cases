{
 "cells": [
  {
   "cell_type": "markdown",
   "metadata": {},
   "source": [
    "#Response Rate\n",
    "1. Response rate:\n",
    "https://surveyanyplace.com/average-survey-response-rate/\n",
    "\n",
    "The response rate would be based on if Florence =1, i.e if the art history of florence was bought. This would be the outcome variable.\n",
    "\n",
    "To get all 60 combinations of RFM categories, read \n",
    "https://www.google.com/amp/s/www.geeksforgeeks.org/python-all-possible-permutations-of-n-lists/amp/\n",
    "\n",
    "Also, check for missing values across all variables. This could be used to determine the response rate as well. \n",
    "See: https://www.coursera.org/lecture/data-collection-methods/1-5-1-response-rates-wY2f3"
   ]
  },
  {
   "cell_type": "code",
   "execution_count": 691,
   "metadata": {},
   "outputs": [],
   "source": [
    "#Note: If Florence = 0, No_Florence = 1 and Yes_Florence = 0\n",
    "#      If florence = 1, No_Florence = 0 and Yes_Florence = 1"
   ]
  },
  {
   "cell_type": "code",
   "execution_count": 692,
   "metadata": {},
   "outputs": [],
   "source": [
    "%matplotlib inline\n",
    "\n",
    "from pathlib import Path\n",
    "\n",
    "import pandas as pd\n",
    "import numpy as np\n",
    "import itertools \n",
    "import matplotlib.pylab as plt\n",
    "from sklearn import preprocessing\n",
    "from sklearn.linear_model import LogisticRegression, LogisticRegressionCV\n",
    "from sklearn.model_selection import train_test_split\n",
    "from sklearn.metrics import accuracy_score\n",
    "from sklearn.neighbors import NearestNeighbors, KNeighborsClassifier\n",
    "from sklearn.metrics import accuracy_score, roc_curve, auc\n",
    "from dmba import liftChart"
   ]
  },
  {
   "cell_type": "code",
   "execution_count": 693,
   "metadata": {},
   "outputs": [],
   "source": [
    "pd.set_option('display.max_rows', None)\n",
    "pd.set_option('display.max_columns', None)"
   ]
  },
  {
   "cell_type": "code",
   "execution_count": 694,
   "metadata": {},
   "outputs": [],
   "source": [
    "cbc = pd.read_csv('CharlesBookClub.csv')"
   ]
  },
  {
   "cell_type": "code",
   "execution_count": 695,
   "metadata": {},
   "outputs": [],
   "source": [
    "CBC = cbc.copy()"
   ]
  },
  {
   "cell_type": "code",
   "execution_count": 696,
   "metadata": {},
   "outputs": [
    {
     "data": {
      "text/plain": [
       "Index(['Seq#', 'ID#', 'Gender', 'M', 'R', 'F', 'FirstPurch', 'ChildBks',\n",
       "       'YouthBks', 'CookBks', 'DoItYBks', 'RefBks', 'ArtBks', 'GeogBks',\n",
       "       'ItalCook', 'ItalAtlas', 'ItalArt', 'Florence', 'Related Purchase',\n",
       "       'Mcode', 'Rcode', 'Fcode', 'Yes_Florence', 'No_Florence'],\n",
       "      dtype='object')"
      ]
     },
     "execution_count": 696,
     "metadata": {},
     "output_type": "execute_result"
    }
   ],
   "source": [
    "cbc.columns"
   ]
  },
  {
   "cell_type": "code",
   "execution_count": 697,
   "metadata": {},
   "outputs": [
    {
     "data": {
      "text/plain": [
       "(4000, 24)"
      ]
     },
     "execution_count": 697,
     "metadata": {},
     "output_type": "execute_result"
    }
   ],
   "source": [
    "cbc.shape"
   ]
  },
  {
   "cell_type": "code",
   "execution_count": 698,
   "metadata": {},
   "outputs": [
    {
     "data": {
      "text/html": [
       "<div>\n",
       "<style scoped>\n",
       "    .dataframe tbody tr th:only-of-type {\n",
       "        vertical-align: middle;\n",
       "    }\n",
       "\n",
       "    .dataframe tbody tr th {\n",
       "        vertical-align: top;\n",
       "    }\n",
       "\n",
       "    .dataframe thead th {\n",
       "        text-align: right;\n",
       "    }\n",
       "</style>\n",
       "<table border=\"1\" class=\"dataframe\">\n",
       "  <thead>\n",
       "    <tr style=\"text-align: right;\">\n",
       "      <th></th>\n",
       "      <th>Seq#</th>\n",
       "      <th>ID#</th>\n",
       "      <th>Gender</th>\n",
       "      <th>M</th>\n",
       "      <th>R</th>\n",
       "      <th>F</th>\n",
       "      <th>FirstPurch</th>\n",
       "      <th>ChildBks</th>\n",
       "      <th>YouthBks</th>\n",
       "      <th>CookBks</th>\n",
       "      <th>DoItYBks</th>\n",
       "      <th>RefBks</th>\n",
       "      <th>ArtBks</th>\n",
       "      <th>GeogBks</th>\n",
       "      <th>ItalCook</th>\n",
       "      <th>ItalAtlas</th>\n",
       "      <th>ItalArt</th>\n",
       "      <th>Florence</th>\n",
       "      <th>Related Purchase</th>\n",
       "      <th>Mcode</th>\n",
       "      <th>Rcode</th>\n",
       "      <th>Fcode</th>\n",
       "      <th>Yes_Florence</th>\n",
       "      <th>No_Florence</th>\n",
       "    </tr>\n",
       "  </thead>\n",
       "  <tbody>\n",
       "    <tr>\n",
       "      <th>0</th>\n",
       "      <td>1</td>\n",
       "      <td>25</td>\n",
       "      <td>1</td>\n",
       "      <td>297</td>\n",
       "      <td>14</td>\n",
       "      <td>2</td>\n",
       "      <td>22</td>\n",
       "      <td>0</td>\n",
       "      <td>1</td>\n",
       "      <td>1</td>\n",
       "      <td>0</td>\n",
       "      <td>0</td>\n",
       "      <td>0</td>\n",
       "      <td>0</td>\n",
       "      <td>0</td>\n",
       "      <td>0</td>\n",
       "      <td>0</td>\n",
       "      <td>0</td>\n",
       "      <td>0</td>\n",
       "      <td>5</td>\n",
       "      <td>4</td>\n",
       "      <td>2</td>\n",
       "      <td>0</td>\n",
       "      <td>1</td>\n",
       "    </tr>\n",
       "    <tr>\n",
       "      <th>1</th>\n",
       "      <td>2</td>\n",
       "      <td>29</td>\n",
       "      <td>0</td>\n",
       "      <td>128</td>\n",
       "      <td>8</td>\n",
       "      <td>2</td>\n",
       "      <td>10</td>\n",
       "      <td>0</td>\n",
       "      <td>0</td>\n",
       "      <td>0</td>\n",
       "      <td>0</td>\n",
       "      <td>0</td>\n",
       "      <td>0</td>\n",
       "      <td>0</td>\n",
       "      <td>0</td>\n",
       "      <td>0</td>\n",
       "      <td>0</td>\n",
       "      <td>0</td>\n",
       "      <td>0</td>\n",
       "      <td>4</td>\n",
       "      <td>3</td>\n",
       "      <td>2</td>\n",
       "      <td>0</td>\n",
       "      <td>1</td>\n",
       "    </tr>\n",
       "    <tr>\n",
       "      <th>2</th>\n",
       "      <td>3</td>\n",
       "      <td>46</td>\n",
       "      <td>1</td>\n",
       "      <td>138</td>\n",
       "      <td>22</td>\n",
       "      <td>7</td>\n",
       "      <td>56</td>\n",
       "      <td>2</td>\n",
       "      <td>1</td>\n",
       "      <td>2</td>\n",
       "      <td>0</td>\n",
       "      <td>1</td>\n",
       "      <td>0</td>\n",
       "      <td>1</td>\n",
       "      <td>1</td>\n",
       "      <td>0</td>\n",
       "      <td>0</td>\n",
       "      <td>0</td>\n",
       "      <td>2</td>\n",
       "      <td>4</td>\n",
       "      <td>4</td>\n",
       "      <td>3</td>\n",
       "      <td>0</td>\n",
       "      <td>1</td>\n",
       "    </tr>\n",
       "    <tr>\n",
       "      <th>3</th>\n",
       "      <td>4</td>\n",
       "      <td>47</td>\n",
       "      <td>1</td>\n",
       "      <td>228</td>\n",
       "      <td>2</td>\n",
       "      <td>1</td>\n",
       "      <td>2</td>\n",
       "      <td>0</td>\n",
       "      <td>0</td>\n",
       "      <td>0</td>\n",
       "      <td>0</td>\n",
       "      <td>0</td>\n",
       "      <td>0</td>\n",
       "      <td>0</td>\n",
       "      <td>0</td>\n",
       "      <td>0</td>\n",
       "      <td>0</td>\n",
       "      <td>0</td>\n",
       "      <td>0</td>\n",
       "      <td>5</td>\n",
       "      <td>1</td>\n",
       "      <td>1</td>\n",
       "      <td>0</td>\n",
       "      <td>1</td>\n",
       "    </tr>\n",
       "    <tr>\n",
       "      <th>4</th>\n",
       "      <td>5</td>\n",
       "      <td>51</td>\n",
       "      <td>1</td>\n",
       "      <td>257</td>\n",
       "      <td>10</td>\n",
       "      <td>1</td>\n",
       "      <td>10</td>\n",
       "      <td>0</td>\n",
       "      <td>0</td>\n",
       "      <td>0</td>\n",
       "      <td>0</td>\n",
       "      <td>0</td>\n",
       "      <td>0</td>\n",
       "      <td>0</td>\n",
       "      <td>0</td>\n",
       "      <td>0</td>\n",
       "      <td>0</td>\n",
       "      <td>0</td>\n",
       "      <td>0</td>\n",
       "      <td>5</td>\n",
       "      <td>3</td>\n",
       "      <td>1</td>\n",
       "      <td>0</td>\n",
       "      <td>1</td>\n",
       "    </tr>\n",
       "  </tbody>\n",
       "</table>\n",
       "</div>"
      ],
      "text/plain": [
       "   Seq#  ID#  Gender    M   R  F  FirstPurch  ChildBks  YouthBks  CookBks  \\\n",
       "0     1   25       1  297  14  2          22         0         1        1   \n",
       "1     2   29       0  128   8  2          10         0         0        0   \n",
       "2     3   46       1  138  22  7          56         2         1        2   \n",
       "3     4   47       1  228   2  1           2         0         0        0   \n",
       "4     5   51       1  257  10  1          10         0         0        0   \n",
       "\n",
       "   DoItYBks  RefBks  ArtBks  GeogBks  ItalCook  ItalAtlas  ItalArt  Florence  \\\n",
       "0         0       0       0        0         0          0        0         0   \n",
       "1         0       0       0        0         0          0        0         0   \n",
       "2         0       1       0        1         1          0        0         0   \n",
       "3         0       0       0        0         0          0        0         0   \n",
       "4         0       0       0        0         0          0        0         0   \n",
       "\n",
       "   Related Purchase  Mcode  Rcode  Fcode  Yes_Florence  No_Florence  \n",
       "0                 0      5      4      2             0            1  \n",
       "1                 0      4      3      2             0            1  \n",
       "2                 2      4      4      3             0            1  \n",
       "3                 0      5      1      1             0            1  \n",
       "4                 0      5      3      1             0            1  "
      ]
     },
     "execution_count": 698,
     "metadata": {},
     "output_type": "execute_result"
    }
   ],
   "source": [
    "#If Florence = 0, No_Florence = 1 and Yes_Florence = 0\n",
    "cbc[cbc['Florence'] == 0].head(5)"
   ]
  },
  {
   "cell_type": "code",
   "execution_count": 699,
   "metadata": {},
   "outputs": [
    {
     "data": {
      "text/html": [
       "<div>\n",
       "<style scoped>\n",
       "    .dataframe tbody tr th:only-of-type {\n",
       "        vertical-align: middle;\n",
       "    }\n",
       "\n",
       "    .dataframe tbody tr th {\n",
       "        vertical-align: top;\n",
       "    }\n",
       "\n",
       "    .dataframe thead th {\n",
       "        text-align: right;\n",
       "    }\n",
       "</style>\n",
       "<table border=\"1\" class=\"dataframe\">\n",
       "  <thead>\n",
       "    <tr style=\"text-align: right;\">\n",
       "      <th></th>\n",
       "      <th>Seq#</th>\n",
       "      <th>ID#</th>\n",
       "      <th>Gender</th>\n",
       "      <th>M</th>\n",
       "      <th>R</th>\n",
       "      <th>F</th>\n",
       "      <th>FirstPurch</th>\n",
       "      <th>ChildBks</th>\n",
       "      <th>YouthBks</th>\n",
       "      <th>CookBks</th>\n",
       "      <th>DoItYBks</th>\n",
       "      <th>RefBks</th>\n",
       "      <th>ArtBks</th>\n",
       "      <th>GeogBks</th>\n",
       "      <th>ItalCook</th>\n",
       "      <th>ItalAtlas</th>\n",
       "      <th>ItalArt</th>\n",
       "      <th>Florence</th>\n",
       "      <th>Related Purchase</th>\n",
       "      <th>Mcode</th>\n",
       "      <th>Rcode</th>\n",
       "      <th>Fcode</th>\n",
       "      <th>Yes_Florence</th>\n",
       "      <th>No_Florence</th>\n",
       "    </tr>\n",
       "  </thead>\n",
       "  <tbody>\n",
       "    <tr>\n",
       "      <th>11</th>\n",
       "      <td>12</td>\n",
       "      <td>100</td>\n",
       "      <td>0</td>\n",
       "      <td>320</td>\n",
       "      <td>2</td>\n",
       "      <td>3</td>\n",
       "      <td>18</td>\n",
       "      <td>0</td>\n",
       "      <td>0</td>\n",
       "      <td>0</td>\n",
       "      <td>0</td>\n",
       "      <td>0</td>\n",
       "      <td>1</td>\n",
       "      <td>0</td>\n",
       "      <td>0</td>\n",
       "      <td>0</td>\n",
       "      <td>0</td>\n",
       "      <td>1</td>\n",
       "      <td>1</td>\n",
       "      <td>5</td>\n",
       "      <td>1</td>\n",
       "      <td>3</td>\n",
       "      <td>1</td>\n",
       "      <td>0</td>\n",
       "    </tr>\n",
       "    <tr>\n",
       "      <th>12</th>\n",
       "      <td>13</td>\n",
       "      <td>103</td>\n",
       "      <td>1</td>\n",
       "      <td>268</td>\n",
       "      <td>4</td>\n",
       "      <td>1</td>\n",
       "      <td>4</td>\n",
       "      <td>0</td>\n",
       "      <td>0</td>\n",
       "      <td>0</td>\n",
       "      <td>0</td>\n",
       "      <td>0</td>\n",
       "      <td>0</td>\n",
       "      <td>0</td>\n",
       "      <td>0</td>\n",
       "      <td>0</td>\n",
       "      <td>0</td>\n",
       "      <td>1</td>\n",
       "      <td>0</td>\n",
       "      <td>5</td>\n",
       "      <td>2</td>\n",
       "      <td>1</td>\n",
       "      <td>1</td>\n",
       "      <td>0</td>\n",
       "    </tr>\n",
       "    <tr>\n",
       "      <th>19</th>\n",
       "      <td>20</td>\n",
       "      <td>145</td>\n",
       "      <td>1</td>\n",
       "      <td>393</td>\n",
       "      <td>12</td>\n",
       "      <td>11</td>\n",
       "      <td>50</td>\n",
       "      <td>3</td>\n",
       "      <td>0</td>\n",
       "      <td>2</td>\n",
       "      <td>0</td>\n",
       "      <td>0</td>\n",
       "      <td>2</td>\n",
       "      <td>3</td>\n",
       "      <td>0</td>\n",
       "      <td>0</td>\n",
       "      <td>0</td>\n",
       "      <td>1</td>\n",
       "      <td>5</td>\n",
       "      <td>5</td>\n",
       "      <td>3</td>\n",
       "      <td>3</td>\n",
       "      <td>1</td>\n",
       "      <td>0</td>\n",
       "    </tr>\n",
       "    <tr>\n",
       "      <th>56</th>\n",
       "      <td>57</td>\n",
       "      <td>440</td>\n",
       "      <td>1</td>\n",
       "      <td>458</td>\n",
       "      <td>10</td>\n",
       "      <td>12</td>\n",
       "      <td>44</td>\n",
       "      <td>1</td>\n",
       "      <td>0</td>\n",
       "      <td>3</td>\n",
       "      <td>1</td>\n",
       "      <td>1</td>\n",
       "      <td>2</td>\n",
       "      <td>0</td>\n",
       "      <td>2</td>\n",
       "      <td>1</td>\n",
       "      <td>1</td>\n",
       "      <td>1</td>\n",
       "      <td>6</td>\n",
       "      <td>5</td>\n",
       "      <td>3</td>\n",
       "      <td>3</td>\n",
       "      <td>1</td>\n",
       "      <td>0</td>\n",
       "    </tr>\n",
       "    <tr>\n",
       "      <th>59</th>\n",
       "      <td>60</td>\n",
       "      <td>453</td>\n",
       "      <td>1</td>\n",
       "      <td>154</td>\n",
       "      <td>10</td>\n",
       "      <td>7</td>\n",
       "      <td>46</td>\n",
       "      <td>0</td>\n",
       "      <td>1</td>\n",
       "      <td>0</td>\n",
       "      <td>1</td>\n",
       "      <td>0</td>\n",
       "      <td>1</td>\n",
       "      <td>3</td>\n",
       "      <td>0</td>\n",
       "      <td>0</td>\n",
       "      <td>0</td>\n",
       "      <td>1</td>\n",
       "      <td>4</td>\n",
       "      <td>4</td>\n",
       "      <td>3</td>\n",
       "      <td>3</td>\n",
       "      <td>1</td>\n",
       "      <td>0</td>\n",
       "    </tr>\n",
       "  </tbody>\n",
       "</table>\n",
       "</div>"
      ],
      "text/plain": [
       "    Seq#  ID#  Gender    M   R   F  FirstPurch  ChildBks  YouthBks  CookBks  \\\n",
       "11    12  100       0  320   2   3          18         0         0        0   \n",
       "12    13  103       1  268   4   1           4         0         0        0   \n",
       "19    20  145       1  393  12  11          50         3         0        2   \n",
       "56    57  440       1  458  10  12          44         1         0        3   \n",
       "59    60  453       1  154  10   7          46         0         1        0   \n",
       "\n",
       "    DoItYBks  RefBks  ArtBks  GeogBks  ItalCook  ItalAtlas  ItalArt  Florence  \\\n",
       "11         0       0       1        0         0          0        0         1   \n",
       "12         0       0       0        0         0          0        0         1   \n",
       "19         0       0       2        3         0          0        0         1   \n",
       "56         1       1       2        0         2          1        1         1   \n",
       "59         1       0       1        3         0          0        0         1   \n",
       "\n",
       "    Related Purchase  Mcode  Rcode  Fcode  Yes_Florence  No_Florence  \n",
       "11                 1      5      1      3             1            0  \n",
       "12                 0      5      2      1             1            0  \n",
       "19                 5      5      3      3             1            0  \n",
       "56                 6      5      3      3             1            0  \n",
       "59                 4      4      3      3             1            0  "
      ]
     },
     "execution_count": 699,
     "metadata": {},
     "output_type": "execute_result"
    }
   ],
   "source": [
    "#If florence = 1, No_Florence = 0 and Yes_Florence = 1\n",
    "cbc[cbc['Florence'] == 1].head(5)"
   ]
  },
  {
   "cell_type": "code",
   "execution_count": 700,
   "metadata": {},
   "outputs": [],
   "source": [
    "y = cbc['Florence']\n",
    "X = cbc.drop(columns=['Florence'])\n",
    "\n",
    "# partition data\n",
    "train_X, valid_X, train_y, valid_y = train_test_split(X, y, test_size=0.4, random_state=1)"
   ]
  },
  {
   "cell_type": "code",
   "execution_count": 701,
   "metadata": {},
   "outputs": [
    {
     "data": {
      "text/html": [
       "<div>\n",
       "<style scoped>\n",
       "    .dataframe tbody tr th:only-of-type {\n",
       "        vertical-align: middle;\n",
       "    }\n",
       "\n",
       "    .dataframe tbody tr th {\n",
       "        vertical-align: top;\n",
       "    }\n",
       "\n",
       "    .dataframe thead th {\n",
       "        text-align: right;\n",
       "    }\n",
       "</style>\n",
       "<table border=\"1\" class=\"dataframe\">\n",
       "  <thead>\n",
       "    <tr style=\"text-align: right;\">\n",
       "      <th></th>\n",
       "      <th>Seq#</th>\n",
       "      <th>ID#</th>\n",
       "      <th>Gender</th>\n",
       "      <th>M</th>\n",
       "      <th>R</th>\n",
       "      <th>F</th>\n",
       "      <th>FirstPurch</th>\n",
       "      <th>ChildBks</th>\n",
       "      <th>YouthBks</th>\n",
       "      <th>CookBks</th>\n",
       "      <th>DoItYBks</th>\n",
       "      <th>RefBks</th>\n",
       "      <th>ArtBks</th>\n",
       "      <th>GeogBks</th>\n",
       "      <th>ItalCook</th>\n",
       "      <th>ItalAtlas</th>\n",
       "      <th>ItalArt</th>\n",
       "      <th>Related Purchase</th>\n",
       "      <th>Mcode</th>\n",
       "      <th>Rcode</th>\n",
       "      <th>Fcode</th>\n",
       "      <th>Yes_Florence</th>\n",
       "      <th>No_Florence</th>\n",
       "    </tr>\n",
       "  </thead>\n",
       "  <tbody>\n",
       "    <tr>\n",
       "      <th>3999</th>\n",
       "      <td>4000</td>\n",
       "      <td>32977</td>\n",
       "      <td>1</td>\n",
       "      <td>114</td>\n",
       "      <td>10</td>\n",
       "      <td>2</td>\n",
       "      <td>12</td>\n",
       "      <td>0</td>\n",
       "      <td>0</td>\n",
       "      <td>0</td>\n",
       "      <td>0</td>\n",
       "      <td>0</td>\n",
       "      <td>0</td>\n",
       "      <td>1</td>\n",
       "      <td>0</td>\n",
       "      <td>0</td>\n",
       "      <td>0</td>\n",
       "      <td>1</td>\n",
       "      <td>4</td>\n",
       "      <td>3</td>\n",
       "      <td>2</td>\n",
       "      <td>0</td>\n",
       "      <td>1</td>\n",
       "    </tr>\n",
       "    <tr>\n",
       "      <th>2745</th>\n",
       "      <td>2746</td>\n",
       "      <td>22736</td>\n",
       "      <td>1</td>\n",
       "      <td>150</td>\n",
       "      <td>30</td>\n",
       "      <td>5</td>\n",
       "      <td>42</td>\n",
       "      <td>1</td>\n",
       "      <td>0</td>\n",
       "      <td>1</td>\n",
       "      <td>1</td>\n",
       "      <td>2</td>\n",
       "      <td>3</td>\n",
       "      <td>0</td>\n",
       "      <td>0</td>\n",
       "      <td>0</td>\n",
       "      <td>0</td>\n",
       "      <td>3</td>\n",
       "      <td>4</td>\n",
       "      <td>4</td>\n",
       "      <td>3</td>\n",
       "      <td>0</td>\n",
       "      <td>1</td>\n",
       "    </tr>\n",
       "    <tr>\n",
       "      <th>492</th>\n",
       "      <td>493</td>\n",
       "      <td>4490</td>\n",
       "      <td>1</td>\n",
       "      <td>372</td>\n",
       "      <td>20</td>\n",
       "      <td>8</td>\n",
       "      <td>66</td>\n",
       "      <td>2</td>\n",
       "      <td>0</td>\n",
       "      <td>3</td>\n",
       "      <td>1</td>\n",
       "      <td>1</td>\n",
       "      <td>0</td>\n",
       "      <td>1</td>\n",
       "      <td>1</td>\n",
       "      <td>1</td>\n",
       "      <td>0</td>\n",
       "      <td>3</td>\n",
       "      <td>5</td>\n",
       "      <td>4</td>\n",
       "      <td>3</td>\n",
       "      <td>0</td>\n",
       "      <td>1</td>\n",
       "    </tr>\n",
       "    <tr>\n",
       "      <th>961</th>\n",
       "      <td>962</td>\n",
       "      <td>7942</td>\n",
       "      <td>1</td>\n",
       "      <td>84</td>\n",
       "      <td>24</td>\n",
       "      <td>1</td>\n",
       "      <td>24</td>\n",
       "      <td>0</td>\n",
       "      <td>0</td>\n",
       "      <td>0</td>\n",
       "      <td>1</td>\n",
       "      <td>0</td>\n",
       "      <td>0</td>\n",
       "      <td>0</td>\n",
       "      <td>0</td>\n",
       "      <td>0</td>\n",
       "      <td>0</td>\n",
       "      <td>0</td>\n",
       "      <td>3</td>\n",
       "      <td>4</td>\n",
       "      <td>1</td>\n",
       "      <td>0</td>\n",
       "      <td>1</td>\n",
       "    </tr>\n",
       "    <tr>\n",
       "      <th>2939</th>\n",
       "      <td>2940</td>\n",
       "      <td>24309</td>\n",
       "      <td>0</td>\n",
       "      <td>267</td>\n",
       "      <td>8</td>\n",
       "      <td>1</td>\n",
       "      <td>8</td>\n",
       "      <td>0</td>\n",
       "      <td>0</td>\n",
       "      <td>0</td>\n",
       "      <td>0</td>\n",
       "      <td>0</td>\n",
       "      <td>0</td>\n",
       "      <td>0</td>\n",
       "      <td>0</td>\n",
       "      <td>0</td>\n",
       "      <td>0</td>\n",
       "      <td>0</td>\n",
       "      <td>5</td>\n",
       "      <td>3</td>\n",
       "      <td>1</td>\n",
       "      <td>0</td>\n",
       "      <td>1</td>\n",
       "    </tr>\n",
       "  </tbody>\n",
       "</table>\n",
       "</div>"
      ],
      "text/plain": [
       "      Seq#    ID#  Gender    M   R  F  FirstPurch  ChildBks  YouthBks  \\\n",
       "3999  4000  32977       1  114  10  2          12         0         0   \n",
       "2745  2746  22736       1  150  30  5          42         1         0   \n",
       "492    493   4490       1  372  20  8          66         2         0   \n",
       "961    962   7942       1   84  24  1          24         0         0   \n",
       "2939  2940  24309       0  267   8  1           8         0         0   \n",
       "\n",
       "      CookBks  DoItYBks  RefBks  ArtBks  GeogBks  ItalCook  ItalAtlas  \\\n",
       "3999        0         0       0       0        1         0          0   \n",
       "2745        1         1       2       3        0         0          0   \n",
       "492         3         1       1       0        1         1          1   \n",
       "961         0         1       0       0        0         0          0   \n",
       "2939        0         0       0       0        0         0          0   \n",
       "\n",
       "      ItalArt  Related Purchase  Mcode  Rcode  Fcode  Yes_Florence  \\\n",
       "3999        0                 1      4      3      2             0   \n",
       "2745        0                 3      4      4      3             0   \n",
       "492         0                 3      5      4      3             0   \n",
       "961         0                 0      3      4      1             0   \n",
       "2939        0                 0      5      3      1             0   \n",
       "\n",
       "      No_Florence  \n",
       "3999            1  \n",
       "2745            1  \n",
       "492             1  \n",
       "961             1  \n",
       "2939            1  "
      ]
     },
     "execution_count": 701,
     "metadata": {},
     "output_type": "execute_result"
    }
   ],
   "source": [
    "train_X.head()"
   ]
  },
  {
   "cell_type": "code",
   "execution_count": 702,
   "metadata": {},
   "outputs": [
    {
     "data": {
      "text/plain": [
       "Index(['Seq#', 'ID#', 'Gender', 'M', 'R', 'F', 'FirstPurch', 'ChildBks',\n",
       "       'YouthBks', 'CookBks', 'DoItYBks', 'RefBks', 'ArtBks', 'GeogBks',\n",
       "       'ItalCook', 'ItalAtlas', 'ItalArt', 'Related Purchase', 'Mcode',\n",
       "       'Rcode', 'Fcode', 'Yes_Florence', 'No_Florence'],\n",
       "      dtype='object')"
      ]
     },
     "execution_count": 702,
     "metadata": {},
     "output_type": "execute_result"
    }
   ],
   "source": [
    "train_X.columns"
   ]
  },
  {
   "cell_type": "code",
   "execution_count": 703,
   "metadata": {},
   "outputs": [
    {
     "name": "stdout",
     "output_type": "stream",
     "text": [
      "response rate for the training data customers taken as a whole is: 8.833333333333334%\n"
     ]
    }
   ],
   "source": [
    "#What is the response rate for the training data customers taken as a whole?\n",
    "train_X_Yes_Florence = train_X[train_X['Yes_Florence'] == 1]\n",
    "A = (len(train_X_Yes_Florence)/len(train_X)) * 100\n",
    "print('response rate for the training data customers taken as a whole is: ' + str(A) + '%')"
   ]
  },
  {
   "cell_type": "code",
   "execution_count": 704,
   "metadata": {},
   "outputs": [],
   "source": [
    "# initializing list of list  \n",
    "all_list = [['R1', 'R2', 'R3', 'R4'], ['F1', 'F2', 'F3'], ['M1', 'M2', 'M3', 'M4', 'M5']] "
   ]
  },
  {
   "cell_type": "code",
   "execution_count": 705,
   "metadata": {},
   "outputs": [
    {
     "name": "stdout",
     "output_type": "stream",
     "text": [
      "The original lists are : [['R1', 'R2', 'R3', 'R4'], ['F1', 'F2', 'F3'], ['M1', 'M2', 'M3', 'M4', 'M5']]\n"
     ]
    }
   ],
   "source": [
    "# printing lists  \n",
    "print (\"The original lists are : \" + str(all_list)) "
   ]
  },
  {
   "cell_type": "code",
   "execution_count": 706,
   "metadata": {},
   "outputs": [],
   "source": [
    "# using itertools.product()   \n",
    "# to compute all possible combinations \n",
    "res = list(itertools.product(*all_list))"
   ]
  },
  {
   "cell_type": "code",
   "execution_count": 707,
   "metadata": {},
   "outputs": [
    {
     "name": "stdout",
     "output_type": "stream",
     "text": [
      "All possible combinations are : [('R1', 'F1', 'M1'), ('R1', 'F1', 'M2'), ('R1', 'F1', 'M3'), ('R1', 'F1', 'M4'), ('R1', 'F1', 'M5'), ('R1', 'F2', 'M1'), ('R1', 'F2', 'M2'), ('R1', 'F2', 'M3'), ('R1', 'F2', 'M4'), ('R1', 'F2', 'M5'), ('R1', 'F3', 'M1'), ('R1', 'F3', 'M2'), ('R1', 'F3', 'M3'), ('R1', 'F3', 'M4'), ('R1', 'F3', 'M5'), ('R2', 'F1', 'M1'), ('R2', 'F1', 'M2'), ('R2', 'F1', 'M3'), ('R2', 'F1', 'M4'), ('R2', 'F1', 'M5'), ('R2', 'F2', 'M1'), ('R2', 'F2', 'M2'), ('R2', 'F2', 'M3'), ('R2', 'F2', 'M4'), ('R2', 'F2', 'M5'), ('R2', 'F3', 'M1'), ('R2', 'F3', 'M2'), ('R2', 'F3', 'M3'), ('R2', 'F3', 'M4'), ('R2', 'F3', 'M5'), ('R3', 'F1', 'M1'), ('R3', 'F1', 'M2'), ('R3', 'F1', 'M3'), ('R3', 'F1', 'M4'), ('R3', 'F1', 'M5'), ('R3', 'F2', 'M1'), ('R3', 'F2', 'M2'), ('R3', 'F2', 'M3'), ('R3', 'F2', 'M4'), ('R3', 'F2', 'M5'), ('R3', 'F3', 'M1'), ('R3', 'F3', 'M2'), ('R3', 'F3', 'M3'), ('R3', 'F3', 'M4'), ('R3', 'F3', 'M5'), ('R4', 'F1', 'M1'), ('R4', 'F1', 'M2'), ('R4', 'F1', 'M3'), ('R4', 'F1', 'M4'), ('R4', 'F1', 'M5'), ('R4', 'F2', 'M1'), ('R4', 'F2', 'M2'), ('R4', 'F2', 'M3'), ('R4', 'F2', 'M4'), ('R4', 'F2', 'M5'), ('R4', 'F3', 'M1'), ('R4', 'F3', 'M2'), ('R4', 'F3', 'M3'), ('R4', 'F3', 'M4'), ('R4', 'F3', 'M5')]\n"
     ]
    }
   ],
   "source": [
    "# printing result \n",
    "print (\"All possible combinations are : \" +  str(res)) "
   ]
  },
  {
   "cell_type": "code",
   "execution_count": 708,
   "metadata": {},
   "outputs": [
    {
     "data": {
      "text/plain": [
       "60"
      ]
     },
     "execution_count": 708,
     "metadata": {},
     "output_type": "execute_result"
    }
   ],
   "source": [
    "len(res)"
   ]
  },
  {
   "cell_type": "code",
   "execution_count": 709,
   "metadata": {},
   "outputs": [
    {
     "name": "stdout",
     "output_type": "stream",
     "text": [
      "Response rate when Rcode=1, Fcode=1 and Mcode=1 is: 0.0%\n"
     ]
    }
   ],
   "source": [
    "#Response rate when R=1, F=1 and M=1\n",
    "A = len(train_X[(train_X['Rcode'] == 1) & (train_X['Fcode'] == 1) & (train_X['Mcode'] == 1) & (train_X['Yes_Florence'] == 1)])\n",
    "B = len(train_X)\n",
    "C = A/B * 100\n",
    "print('Response rate when Rcode=1, Fcode=1 and Mcode=1 is: ' + str(C) + '%')"
   ]
  },
  {
   "cell_type": "code",
   "execution_count": 710,
   "metadata": {},
   "outputs": [
    {
     "name": "stdout",
     "output_type": "stream",
     "text": [
      "Response rate when Rcode=1, Fcode=1 and Mcode=2 is: 0.0%\n"
     ]
    }
   ],
   "source": [
    "#Response rate when R=1, F=1 and M=2\n",
    "A = len(train_X[(train_X['Rcode'] == 1) & (train_X['Fcode'] == 1) & (train_X['Mcode'] == 2) & (train_X['Yes_Florence'] == 1)])\n",
    "B = len(train_X)\n",
    "C = A/B * 100\n",
    "print('Response rate when Rcode=1, Fcode=1 and Mcode=2 is: ' + str(C) + '%')"
   ]
  },
  {
   "cell_type": "code",
   "execution_count": 711,
   "metadata": {},
   "outputs": [
    {
     "name": "stdout",
     "output_type": "stream",
     "text": [
      "Response rate when Rcode=1, Fcode=1 and Mcode=3 is: 0.0%\n"
     ]
    }
   ],
   "source": [
    "#Response rate when R=1, F=1 and M=3\n",
    "A = len(train_X[(train_X['Rcode'] == 1) & (train_X['Fcode'] == 1) & (train_X['Mcode'] == 3) & (train_X['Yes_Florence'] == 1)])\n",
    "B = len(train_X)\n",
    "C = A/B * 100\n",
    "print('Response rate when Rcode=1, Fcode=1 and Mcode=3 is: ' + str(C) + '%')"
   ]
  },
  {
   "cell_type": "code",
   "execution_count": 712,
   "metadata": {},
   "outputs": [
    {
     "name": "stdout",
     "output_type": "stream",
     "text": [
      "Response rate when Rcode=1, Fcode=1 and Mcode=4 is: 0.125%\n"
     ]
    }
   ],
   "source": [
    "#Response rate when R=1, F=1 and M=4\n",
    "A = len(train_X[(train_X['Rcode'] == 1) & (train_X['Fcode'] == 1) & (train_X['Mcode'] == 4) & (train_X['Yes_Florence'] == 1)])\n",
    "B = len(train_X)\n",
    "C = A/B * 100\n",
    "print('Response rate when Rcode=1, Fcode=1 and Mcode=4 is: ' + str(C) + '%')"
   ]
  },
  {
   "cell_type": "code",
   "execution_count": 713,
   "metadata": {},
   "outputs": [
    {
     "name": "stdout",
     "output_type": "stream",
     "text": [
      "Response rate when Rcode=1, Fcode=1 and Mcode=5 is: 0.16666666666666669%\n"
     ]
    }
   ],
   "source": [
    "#Response rate when R=1, F=1 and M=5\n",
    "A = len(train_X[(train_X['Rcode'] == 1) & (train_X['Fcode'] == 1) & (train_X['Mcode'] == 5) & (train_X['Yes_Florence'] == 1)])\n",
    "B = len(train_X)\n",
    "C = A/B * 100  \n",
    "print('Response rate when Rcode=1, Fcode=1 and Mcode=5 is: ' + str(C) + '%')"
   ]
  },
  {
   "cell_type": "code",
   "execution_count": 714,
   "metadata": {},
   "outputs": [
    {
     "name": "stdout",
     "output_type": "stream",
     "text": [
      "Response rate when Rcode=1, Fcode=2 and Mcode=1 is: 0.0%\n"
     ]
    }
   ],
   "source": [
    "#('R1', 'F2', 'M1')\n",
    "#Response rate when R=1, F=2 and M=1\n",
    "A = len(train_X[(train_X['Rcode'] == 1) & (train_X['Fcode'] == 2) & (train_X['Mcode'] == 1) & (train_X['Yes_Florence'] == 1)])\n",
    "B = len(train_X)\n",
    "C = A/B * 100\n",
    "print('Response rate when Rcode=1, Fcode=2 and Mcode=1 is: ' + str(C) + '%')"
   ]
  },
  {
   "cell_type": "code",
   "execution_count": 715,
   "metadata": {},
   "outputs": [
    {
     "name": "stdout",
     "output_type": "stream",
     "text": [
      "Response rate when Rcode=1, Fcode=2 and Mcode=2 is: 0.08333333333333334%\n"
     ]
    }
   ],
   "source": [
    "#('R1', 'F2', 'M2')\n",
    "A = len(train_X[(train_X['Rcode'] == 1) & (train_X['Fcode'] == 2) & (train_X['Mcode'] == 2) & (train_X['Yes_Florence'] == 1)])\n",
    "B = len(train_X)\n",
    "C = A/B * 100\n",
    "print('Response rate when Rcode=1, Fcode=2 and Mcode=2 is: ' + str(C) + '%')"
   ]
  },
  {
   "cell_type": "code",
   "execution_count": 716,
   "metadata": {},
   "outputs": [
    {
     "name": "stdout",
     "output_type": "stream",
     "text": [
      "Response rate when Rcode=1, Fcode=2 and Mcode=3 is: 0.0%\n"
     ]
    }
   ],
   "source": [
    "#('R1', 'F2', 'M3')\n",
    "A = len(train_X[(train_X['Rcode'] == 1) & (train_X['Fcode'] == 2) & (train_X['Mcode'] == 3) & (train_X['Yes_Florence'] == 1)])\n",
    "B = len(train_X)\n",
    "C = A/B * 100\n",
    "print('Response rate when Rcode=1, Fcode=2 and Mcode=3 is: ' + str(C) + '%')"
   ]
  },
  {
   "cell_type": "code",
   "execution_count": 717,
   "metadata": {},
   "outputs": [
    {
     "name": "stdout",
     "output_type": "stream",
     "text": [
      "Response rate when Rcode=1, Fcode=2 and Mcode=4 is: 0.04166666666666667%\n"
     ]
    }
   ],
   "source": [
    "#('R1', 'F2', 'M4')\n",
    "A = len(train_X[(train_X['Rcode'] == 1) & (train_X['Fcode'] == 2) & (train_X['Mcode'] == 4) & (train_X['Yes_Florence'] == 1)])\n",
    "B = len(train_X)\n",
    "C = A/B * 100\n",
    "print('Response rate when Rcode=1, Fcode=2 and Mcode=4 is: ' + str(C) + '%')"
   ]
  },
  {
   "cell_type": "code",
   "execution_count": 718,
   "metadata": {},
   "outputs": [
    {
     "name": "stdout",
     "output_type": "stream",
     "text": [
      "Response rate when Rcode=1, Fcode=2 and Mcode=5 is: 0.08333333333333334%\n"
     ]
    }
   ],
   "source": [
    "#('R1', 'F2', 'M5')\n",
    "A = len(train_X[(train_X['Rcode'] == 1) & (train_X['Fcode'] == 2) & (train_X['Mcode'] == 5) & (train_X['Yes_Florence'] == 1)])\n",
    "B = len(train_X)\n",
    "C = A/B * 100\n",
    "print('Response rate when Rcode=1, Fcode=2 and Mcode=5 is: ' + str(C) + '%')"
   ]
  },
  {
   "cell_type": "code",
   "execution_count": 719,
   "metadata": {},
   "outputs": [
    {
     "name": "stdout",
     "output_type": "stream",
     "text": [
      "Response rate when Rcode=1, Fcode=3 and Mcode=1 is: 0.0%\n"
     ]
    }
   ],
   "source": [
    "#('R1', 'F3', 'M1')\n",
    "A = len(train_X[(train_X['Rcode'] == 1) & (train_X['Fcode'] == 3) & (train_X['Mcode'] == 1) & (train_X['Yes_Florence'] == 1)])\n",
    "B = len(train_X)\n",
    "C = A/B * 100\n",
    "print('Response rate when Rcode=1, Fcode=3 and Mcode=1 is: ' + str(C) + '%')"
   ]
  },
  {
   "cell_type": "code",
   "execution_count": 720,
   "metadata": {},
   "outputs": [
    {
     "name": "stdout",
     "output_type": "stream",
     "text": [
      "Response rate when Rcode=1, Fcode=3 and Mcode=2 is: 0.0%\n"
     ]
    }
   ],
   "source": [
    "#('R1', 'F3', 'M2')\n",
    "A = len(train_X[(train_X['Rcode'] == 1) & (train_X['Fcode'] == 3) & (train_X['Mcode'] == 2) & (train_X['Yes_Florence'] == 1)])\n",
    "B = len(train_X)\n",
    "C = A/B * 100\n",
    "print('Response rate when Rcode=1, Fcode=3 and Mcode=2 is: ' + str(C) + '%')"
   ]
  },
  {
   "cell_type": "code",
   "execution_count": 721,
   "metadata": {},
   "outputs": [
    {
     "name": "stdout",
     "output_type": "stream",
     "text": [
      "Response rate when Rcode=1, Fcode=3 and Mcode=3 is: 0.04166666666666667%\n"
     ]
    }
   ],
   "source": [
    "#('R1', 'F3', 'M3')\n",
    "A = len(train_X[(train_X['Rcode'] == 1) & (train_X['Fcode'] == 3) & (train_X['Mcode'] == 3) & (train_X['Yes_Florence'] == 1)])\n",
    "B = len(train_X)\n",
    "C = A/B * 100\n",
    "print('Response rate when Rcode=1, Fcode=3 and Mcode=3 is: ' + str(C) + '%')"
   ]
  },
  {
   "cell_type": "code",
   "execution_count": 722,
   "metadata": {},
   "outputs": [
    {
     "name": "stdout",
     "output_type": "stream",
     "text": [
      "Response rate when Rcode=1, Fcode=3 and Mcode=4 is: 0.04166666666666667%\n"
     ]
    }
   ],
   "source": [
    "#('R1', 'F3', 'M4')\n",
    "A = len(train_X[(train_X['Rcode'] == 1) & (train_X['Fcode'] == 3) & (train_X['Mcode'] == 4) & (train_X['Yes_Florence'] == 1)])\n",
    "B = len(train_X)\n",
    "C = A/B * 100\n",
    "print('Response rate when Rcode=1, Fcode=3 and Mcode=4 is: ' + str(C) + '%')"
   ]
  },
  {
   "cell_type": "code",
   "execution_count": 723,
   "metadata": {},
   "outputs": [
    {
     "name": "stdout",
     "output_type": "stream",
     "text": [
      "Response rate when Rcode=1, Fcode=3 and Mcode=5 is: 0.33333333333333337%\n"
     ]
    }
   ],
   "source": [
    "#('R1', 'F3', 'M5')\n",
    "A = len(train_X[(train_X['Rcode'] == 1) & (train_X['Fcode'] == 3) & (train_X['Mcode'] == 5) & (train_X['Yes_Florence'] == 1)])\n",
    "B = len(train_X)\n",
    "C = A/B * 100\n",
    "print('Response rate when Rcode=1, Fcode=3 and Mcode=5 is: ' + str(C) + '%')"
   ]
  },
  {
   "cell_type": "code",
   "execution_count": 724,
   "metadata": {},
   "outputs": [
    {
     "name": "stdout",
     "output_type": "stream",
     "text": [
      "Response rate when Rcode=2, Fcode=1 and Mcode=1 is: 0.08333333333333334%\n"
     ]
    }
   ],
   "source": [
    "#('R2', 'F1', 'M1')\n",
    "A = len(train_X[(train_X['Rcode'] == 2) & (train_X['Fcode'] == 1) & (train_X['Mcode'] == 1) & (train_X['Yes_Florence'] == 1)])\n",
    "B = len(train_X)\n",
    "C = A/B * 100\n",
    "print('Response rate when Rcode=2, Fcode=1 and Mcode=1 is: ' + str(C) + '%')"
   ]
  },
  {
   "cell_type": "code",
   "execution_count": 725,
   "metadata": {},
   "outputs": [
    {
     "name": "stdout",
     "output_type": "stream",
     "text": [
      "Response rate when Rcode=2, Fcode=1 and Mcode=2 is: 0.125%\n"
     ]
    }
   ],
   "source": [
    "#('R2', 'F1', 'M2')\n",
    "A = len(train_X[(train_X['Rcode'] == 2) & (train_X['Fcode'] == 1) & (train_X['Mcode'] == 2) & (train_X['Yes_Florence'] == 1)])\n",
    "B = len(train_X)\n",
    "C = A/B * 100\n",
    "print('Response rate when Rcode=2, Fcode=1 and Mcode=2 is: ' + str(C) + '%')"
   ]
  },
  {
   "cell_type": "code",
   "execution_count": 726,
   "metadata": {},
   "outputs": [
    {
     "name": "stdout",
     "output_type": "stream",
     "text": [
      "Response rate when Rcode=2, Fcode=1 and Mcode=3 is: 0.125%\n"
     ]
    }
   ],
   "source": [
    "#('R2', 'F1', 'M3')\n",
    "A = len(train_X[(train_X['Rcode'] == 2) & (train_X['Fcode'] == 1) & (train_X['Mcode'] == 3) & (train_X['Yes_Florence'] == 1)])\n",
    "B = len(train_X)\n",
    "C = A/B * 100\n",
    "print('Response rate when Rcode=2, Fcode=1 and Mcode=3 is: ' + str(C) + '%')"
   ]
  },
  {
   "cell_type": "code",
   "execution_count": 727,
   "metadata": {},
   "outputs": [
    {
     "name": "stdout",
     "output_type": "stream",
     "text": [
      "Response rate when Rcode=2, Fcode=1 and Mcode=4 is: 0.0%\n"
     ]
    }
   ],
   "source": [
    "#('R2', 'F1', 'M4')\n",
    "A = len(train_X[(train_X['Rcode'] == 2) & (train_X['Fcode'] == 1) & (train_X['Mcode'] == 4) & (train_X['Yes_Florence'] == 1)])\n",
    "B = len(train_X)\n",
    "C = A/B * 100\n",
    "print('Response rate when Rcode=2, Fcode=1 and Mcode=4 is: ' + str(C) + '%')"
   ]
  },
  {
   "cell_type": "code",
   "execution_count": 728,
   "metadata": {},
   "outputs": [
    {
     "name": "stdout",
     "output_type": "stream",
     "text": [
      "Response rate when Rcode=2, Fcode=1 and Mcode=5 is: 0.20833333333333334%\n"
     ]
    }
   ],
   "source": [
    "#('R2', 'F1', 'M5')\n",
    "A = len(train_X[(train_X['Rcode'] == 2) & (train_X['Fcode'] == 1) & (train_X['Mcode'] == 5) & (train_X['Yes_Florence'] == 1)])\n",
    "B = len(train_X)\n",
    "C = A/B * 100\n",
    "print('Response rate when Rcode=2, Fcode=1 and Mcode=5 is: ' + str(C) + '%')"
   ]
  },
  {
   "cell_type": "code",
   "execution_count": 729,
   "metadata": {},
   "outputs": [
    {
     "name": "stdout",
     "output_type": "stream",
     "text": [
      "Response rate when Rcode=2, Fcode=2 and Mcode=1 is: 0.0%\n"
     ]
    }
   ],
   "source": [
    "#('R2', 'F2', 'M1')\n",
    "A = len(train_X[(train_X['Rcode'] == 2) & (train_X['Fcode'] == 2) & (train_X['Mcode'] == 1) & (train_X['Yes_Florence'] == 1)])\n",
    "B = len(train_X)\n",
    "C = A/B * 100\n",
    "print('Response rate when Rcode=2, Fcode=2 and Mcode=1 is: ' + str(C) + '%')"
   ]
  },
  {
   "cell_type": "code",
   "execution_count": 730,
   "metadata": {},
   "outputs": [
    {
     "name": "stdout",
     "output_type": "stream",
     "text": [
      "Response rate when Rcode=2, Fcode=2 and Mcode=2 is: 0.04166666666666667%\n"
     ]
    }
   ],
   "source": [
    "#('R2', 'F2', 'M2')\n",
    "A = len(train_X[(train_X['Rcode'] == 2) & (train_X['Fcode'] == 2) & (train_X['Mcode'] == 2) & (train_X['Yes_Florence'] == 1)])\n",
    "B = len(train_X)\n",
    "C = A/B * 100\n",
    "print('Response rate when Rcode=2, Fcode=2 and Mcode=2 is: ' + str(C) + '%')"
   ]
  },
  {
   "cell_type": "code",
   "execution_count": 731,
   "metadata": {},
   "outputs": [
    {
     "name": "stdout",
     "output_type": "stream",
     "text": [
      "Response rate when Rcode=2, Fcode=2 and Mcode=3 is: 0.16666666666666669%\n"
     ]
    }
   ],
   "source": [
    "#('R2', 'F2', 'M3')\n",
    "A = len(train_X[(train_X['Rcode'] == 2) & (train_X['Fcode'] == 2) & (train_X['Mcode'] == 3) & (train_X['Yes_Florence'] == 1)])\n",
    "B = len(train_X)\n",
    "C = A/B * 100\n",
    "print('Response rate when Rcode=2, Fcode=2 and Mcode=3 is: ' + str(C) + '%')"
   ]
  },
  {
   "cell_type": "code",
   "execution_count": 732,
   "metadata": {},
   "outputs": [
    {
     "name": "stdout",
     "output_type": "stream",
     "text": [
      "Response rate when Rcode=2, Fcode=2 and Mcode=4 is: 0.20833333333333334%\n"
     ]
    }
   ],
   "source": [
    "#('R2', 'F2', 'M4')\n",
    "A = len(train_X[(train_X['Rcode'] == 2) & (train_X['Fcode'] == 2) & (train_X['Mcode'] == 4) & (train_X['Yes_Florence'] == 1)])\n",
    "B = len(train_X)\n",
    "C = A/B * 100\n",
    "print('Response rate when Rcode=2, Fcode=2 and Mcode=4 is: ' + str(C) + '%')"
   ]
  },
  {
   "cell_type": "code",
   "execution_count": 733,
   "metadata": {},
   "outputs": [
    {
     "name": "stdout",
     "output_type": "stream",
     "text": [
      "Response rate when Rcode=2, Fcode=2 and Mcode=5 is: 0.08333333333333334%\n"
     ]
    }
   ],
   "source": [
    "#('R2', 'F2', 'M5')\n",
    "A = len(train_X[(train_X['Rcode'] == 2) & (train_X['Fcode'] == 2) & (train_X['Mcode'] == 5) & (train_X['Yes_Florence'] == 1)])\n",
    "B = len(train_X)\n",
    "C = A/B * 100\n",
    "print('Response rate when Rcode=2, Fcode=2 and Mcode=5 is: ' + str(C) + '%')"
   ]
  },
  {
   "cell_type": "code",
   "execution_count": 734,
   "metadata": {},
   "outputs": [
    {
     "name": "stdout",
     "output_type": "stream",
     "text": [
      "Response rate when Rcode=2, Fcode=3 and Mcode=1 is: 0.0%\n"
     ]
    }
   ],
   "source": [
    "#('R2', 'F3', 'M1')\n",
    "A = len(train_X[(train_X['Rcode'] == 2) & (train_X['Fcode'] == 3) & (train_X['Mcode'] == 1) & (train_X['Yes_Florence'] == 1)])\n",
    "B = len(train_X)\n",
    "C = A/B * 100\n",
    "print('Response rate when Rcode=2, Fcode=3 and Mcode=1 is: ' + str(C) + '%')"
   ]
  },
  {
   "cell_type": "code",
   "execution_count": 735,
   "metadata": {},
   "outputs": [
    {
     "name": "stdout",
     "output_type": "stream",
     "text": [
      "Response rate when Rcode=2, Fcode=3 and Mcode=2 is: 0.0%\n"
     ]
    }
   ],
   "source": [
    "#('R2', 'F3', 'M2')\n",
    "A = len(train_X[(train_X['Rcode'] == 2) & (train_X['Fcode'] == 3) & (train_X['Mcode'] == 2) & (train_X['Yes_Florence'] == 1)])\n",
    "B = len(train_X)\n",
    "C = A/B * 100\n",
    "print('Response rate when Rcode=2, Fcode=3 and Mcode=2 is: ' + str(C) + '%')"
   ]
  },
  {
   "cell_type": "code",
   "execution_count": 736,
   "metadata": {},
   "outputs": [
    {
     "name": "stdout",
     "output_type": "stream",
     "text": [
      "Response rate when Rcode=2, Fcode=3 and Mcode=3 is: 0.04166666666666667%\n"
     ]
    }
   ],
   "source": [
    "#('R2', 'F3', 'M3')\n",
    "A = len(train_X[(train_X['Rcode'] == 2) & (train_X['Fcode'] == 3) & (train_X['Mcode'] == 3) & (train_X['Yes_Florence'] == 1)])\n",
    "B = len(train_X)\n",
    "C = A/B * 100\n",
    "print('Response rate when Rcode=2, Fcode=3 and Mcode=3 is: ' + str(C) + '%')"
   ]
  },
  {
   "cell_type": "code",
   "execution_count": 737,
   "metadata": {},
   "outputs": [
    {
     "name": "stdout",
     "output_type": "stream",
     "text": [
      "Response rate when Rcode=2, Fcode=3 and Mcode=4 is: 0.33333333333333337%\n"
     ]
    }
   ],
   "source": [
    "#('R2', 'F3', 'M4')\n",
    "A = len(train_X[(train_X['Rcode'] == 2) & (train_X['Fcode'] == 3) & (train_X['Mcode'] == 4) & (train_X['Yes_Florence'] == 1)])\n",
    "B = len(train_X)\n",
    "C = A/B * 100\n",
    "print('Response rate when Rcode=2, Fcode=3 and Mcode=4 is: ' + str(C) + '%')"
   ]
  },
  {
   "cell_type": "code",
   "execution_count": 738,
   "metadata": {},
   "outputs": [
    {
     "name": "stdout",
     "output_type": "stream",
     "text": [
      "Response rate when Rcode=2, Fcode=3 and Mcode=5 is: 0.6666666666666667%\n"
     ]
    }
   ],
   "source": [
    "#('R2', 'F3', 'M5')\n",
    "A = len(train_X[(train_X['Rcode'] == 2) & (train_X['Fcode'] == 3) & (train_X['Mcode'] == 5) & (train_X['Yes_Florence'] == 1)])\n",
    "B = len(train_X)\n",
    "C = A/B * 100\n",
    "print('Response rate when Rcode=2, Fcode=3 and Mcode=5 is: ' + str(C) + '%')"
   ]
  },
  {
   "cell_type": "code",
   "execution_count": 739,
   "metadata": {},
   "outputs": [
    {
     "name": "stdout",
     "output_type": "stream",
     "text": [
      "Response rate when Rcode=3, Fcode=1 and Mcode=1 is: 0.04166666666666667%\n"
     ]
    }
   ],
   "source": [
    "#('R3', 'F1', 'M1')\n",
    "A = len(train_X[(train_X['Rcode'] == 3) & (train_X['Fcode'] == 1) & (train_X['Mcode'] == 1) & (train_X['Yes_Florence'] == 1)])\n",
    "B = len(train_X)\n",
    "C = A/B * 100\n",
    "print('Response rate when Rcode=3, Fcode=1 and Mcode=1 is: ' + str(C) + '%')"
   ]
  },
  {
   "cell_type": "code",
   "execution_count": 740,
   "metadata": {},
   "outputs": [
    {
     "name": "stdout",
     "output_type": "stream",
     "text": [
      "Response rate when Rcode=3, Fcode=1 and Mcode=2 is: 0.08333333333333334%\n"
     ]
    }
   ],
   "source": [
    "#('R3', 'F1', 'M2')\n",
    "A = len(train_X[(train_X['Rcode'] == 3) & (train_X['Fcode'] == 1) & (train_X['Mcode'] == 2) & (train_X['Yes_Florence'] == 1)])\n",
    "B = len(train_X)\n",
    "C = A/B * 100\n",
    "print('Response rate when Rcode=3, Fcode=1 and Mcode=2 is: ' + str(C) + '%')"
   ]
  },
  {
   "cell_type": "code",
   "execution_count": 741,
   "metadata": {},
   "outputs": [
    {
     "name": "stdout",
     "output_type": "stream",
     "text": [
      "Response rate when Rcode=3, Fcode=1 and Mcode=3 is: 0.04166666666666667%\n"
     ]
    }
   ],
   "source": [
    "#('R3', 'F1', 'M3')\n",
    "A = len(train_X[(train_X['Rcode'] == 3) & (train_X['Fcode'] == 1) & (train_X['Mcode'] == 3) & (train_X['Yes_Florence'] == 1)])\n",
    "B = len(train_X)\n",
    "C = A/B * 100\n",
    "print('Response rate when Rcode=3, Fcode=1 and Mcode=3 is: ' + str(C) + '%')"
   ]
  },
  {
   "cell_type": "code",
   "execution_count": 742,
   "metadata": {},
   "outputs": [
    {
     "name": "stdout",
     "output_type": "stream",
     "text": [
      "Response rate when Rcode=3, Fcode=1 and Mcode=4 is: 0.25%\n"
     ]
    }
   ],
   "source": [
    "#('R3', 'F1', 'M4')\n",
    "A = len(train_X[(train_X['Rcode'] == 3) & (train_X['Fcode'] == 1) & (train_X['Mcode'] == 4) & (train_X['Yes_Florence'] == 1)])\n",
    "B = len(train_X)\n",
    "C = A/B * 100\n",
    "print('Response rate when Rcode=3, Fcode=1 and Mcode=4 is: ' + str(C) + '%')"
   ]
  },
  {
   "cell_type": "code",
   "execution_count": 743,
   "metadata": {},
   "outputs": [
    {
     "name": "stdout",
     "output_type": "stream",
     "text": [
      "Response rate when Rcode=3, Fcode=1 and Mcode=5 is: 0.16666666666666669%\n"
     ]
    }
   ],
   "source": [
    "#('R3', 'F1', 'M5')\n",
    "A = len(train_X[(train_X['Rcode'] == 3) & (train_X['Fcode'] == 1) & (train_X['Mcode'] == 5) & (train_X['Yes_Florence'] == 1)])\n",
    "B = len(train_X)\n",
    "C = A/B * 100\n",
    "print('Response rate when Rcode=3, Fcode=1 and Mcode=5 is: ' + str(C) + '%')"
   ]
  },
  {
   "cell_type": "code",
   "execution_count": 744,
   "metadata": {},
   "outputs": [
    {
     "name": "stdout",
     "output_type": "stream",
     "text": [
      "Response rate when Rcode=3, Fcode=2 and Mcode=1 is: 0.0%\n"
     ]
    }
   ],
   "source": [
    "#('R3', 'F2', 'M1')\n",
    "A = len(train_X[(train_X['Rcode'] == 3) & (train_X['Fcode'] == 2) & (train_X['Mcode'] == 1) & (train_X['Yes_Florence'] == 1)])\n",
    "B = len(train_X)\n",
    "C = A/B * 100\n",
    "print('Response rate when Rcode=3, Fcode=2 and Mcode=1 is: ' + str(C) + '%')"
   ]
  },
  {
   "cell_type": "code",
   "execution_count": 745,
   "metadata": {},
   "outputs": [
    {
     "name": "stdout",
     "output_type": "stream",
     "text": [
      "Response rate when Rcode=3, Fcode=2 and Mcode=2 is: 0.04166666666666667%\n"
     ]
    }
   ],
   "source": [
    "#('R3', 'F2', 'M2')\n",
    "A = len(train_X[(train_X['Rcode'] == 3) & (train_X['Fcode'] == 2) & (train_X['Mcode'] == 2) & (train_X['Yes_Florence'] == 1)])\n",
    "B = len(train_X)\n",
    "C = A/B * 100\n",
    "print('Response rate when Rcode=3, Fcode=2 and Mcode=2 is: ' + str(C) + '%')"
   ]
  },
  {
   "cell_type": "code",
   "execution_count": 746,
   "metadata": {},
   "outputs": [
    {
     "name": "stdout",
     "output_type": "stream",
     "text": [
      "Response rate when Rcode=3, Fcode=2 and Mcode=3 is: 0.08333333333333334%\n"
     ]
    }
   ],
   "source": [
    "#('R3', 'F2', 'M3')\n",
    "A = len(train_X[(train_X['Rcode'] == 3) & (train_X['Fcode'] == 2) & (train_X['Mcode'] == 3) & (train_X['Yes_Florence'] == 1)])\n",
    "B = len(train_X)\n",
    "C = A/B * 100\n",
    "print('Response rate when Rcode=3, Fcode=2 and Mcode=3 is: ' + str(C) + '%')"
   ]
  },
  {
   "cell_type": "code",
   "execution_count": 747,
   "metadata": {},
   "outputs": [
    {
     "name": "stdout",
     "output_type": "stream",
     "text": [
      "Response rate when Rcode=3, Fcode=2 and Mcode=4 is: 0.125%\n"
     ]
    }
   ],
   "source": [
    "#('R3', 'F2', 'M4')\n",
    "A = len(train_X[(train_X['Rcode'] == 3) & (train_X['Fcode'] == 2) & (train_X['Mcode'] == 4) & (train_X['Yes_Florence'] == 1)])\n",
    "B = len(train_X)\n",
    "C = A/B * 100\n",
    "print('Response rate when Rcode=3, Fcode=2 and Mcode=4 is: ' + str(C) + '%')"
   ]
  },
  {
   "cell_type": "code",
   "execution_count": 748,
   "metadata": {},
   "outputs": [
    {
     "name": "stdout",
     "output_type": "stream",
     "text": [
      "Response rate when Rcode=3, Fcode=2 and Mcode=5 is: 0.16666666666666669%\n"
     ]
    }
   ],
   "source": [
    "#('R3', 'F2', 'M5')\n",
    "A = len(train_X[(train_X['Rcode'] == 3) & (train_X['Fcode'] == 2) & (train_X['Mcode'] == 5) & (train_X['Yes_Florence'] == 1)])\n",
    "B = len(train_X)\n",
    "C = A/B * 100\n",
    "print('Response rate when Rcode=3, Fcode=2 and Mcode=5 is: ' + str(C) + '%')"
   ]
  },
  {
   "cell_type": "code",
   "execution_count": 749,
   "metadata": {},
   "outputs": [
    {
     "name": "stdout",
     "output_type": "stream",
     "text": [
      "Response rate when Rcode=3, Fcode=3 and Mcode=1 is: 0.0%\n"
     ]
    }
   ],
   "source": [
    "#('R3', 'F3', 'M1')\n",
    "A = len(train_X[(train_X['Rcode'] == 3) & (train_X['Fcode'] == 3) & (train_X['Mcode'] == 1) & (train_X['Yes_Florence'] == 1)])\n",
    "B = len(train_X)\n",
    "C = A/B * 100\n",
    "print('Response rate when Rcode=3, Fcode=3 and Mcode=1 is: ' + str(C) + '%')"
   ]
  },
  {
   "cell_type": "code",
   "execution_count": 750,
   "metadata": {},
   "outputs": [
    {
     "name": "stdout",
     "output_type": "stream",
     "text": [
      "Response rate when Rcode=3, Fcode=3 and Mcode=2 is: 0.0%\n"
     ]
    }
   ],
   "source": [
    "#('R3', 'F3', 'M2')\n",
    "A = len(train_X[(train_X['Rcode'] == 3) & (train_X['Fcode'] == 3) & (train_X['Mcode'] == 2) & (train_X['Yes_Florence'] == 1)])\n",
    "B = len(train_X)\n",
    "C = A/B * 100\n",
    "print('Response rate when Rcode=3, Fcode=3 and Mcode=2 is: ' + str(C) + '%')"
   ]
  },
  {
   "cell_type": "code",
   "execution_count": 751,
   "metadata": {},
   "outputs": [
    {
     "name": "stdout",
     "output_type": "stream",
     "text": [
      "Response rate when Rcode=3, Fcode=3 and Mcode=3 is: 0.0%\n"
     ]
    }
   ],
   "source": [
    "#('R3', 'F3', 'M3') \n",
    "A = len(train_X[(train_X['Rcode'] == 3) & (train_X['Fcode'] == 3) & (train_X['Mcode'] == 3) & (train_X['Yes_Florence'] == 1)])\n",
    "B = len(train_X)\n",
    "C = A/B * 100\n",
    "print('Response rate when Rcode=3, Fcode=3 and Mcode=3 is: ' + str(C) + '%')"
   ]
  },
  {
   "cell_type": "code",
   "execution_count": 752,
   "metadata": {},
   "outputs": [
    {
     "name": "stdout",
     "output_type": "stream",
     "text": [
      "Response rate when Rcode=3, Fcode=3 and Mcode=4 is: 0.20833333333333334%\n"
     ]
    }
   ],
   "source": [
    "#('R3', 'F3', 'M4')\n",
    "A = len(train_X[(train_X['Rcode'] == 3) & (train_X['Fcode'] == 3) & (train_X['Mcode'] == 4) & (train_X['Yes_Florence'] == 1)])\n",
    "B = len(train_X)\n",
    "C = A/B * 100\n",
    "print('Response rate when Rcode=3, Fcode=3 and Mcode=4 is: ' + str(C) + '%')"
   ]
  },
  {
   "cell_type": "code",
   "execution_count": 753,
   "metadata": {},
   "outputs": [
    {
     "name": "stdout",
     "output_type": "stream",
     "text": [
      "Response rate when Rcode=3, Fcode=3 and Mcode=5 is: 1.1666666666666667%\n"
     ]
    }
   ],
   "source": [
    "('R3', 'F3', 'M5')\n",
    "A = len(train_X[(train_X['Rcode'] == 3) & (train_X['Fcode'] == 3) & (train_X['Mcode'] == 5) & (train_X['Yes_Florence'] == 1)])\n",
    "B = len(train_X)\n",
    "C = A/B * 100\n",
    "print('Response rate when Rcode=3, Fcode=3 and Mcode=5 is: ' + str(C) + '%')"
   ]
  },
  {
   "cell_type": "code",
   "execution_count": 754,
   "metadata": {},
   "outputs": [
    {
     "name": "stdout",
     "output_type": "stream",
     "text": [
      "Response rate when Rcode=4, Fcode=1 and Mcode=1 is: 0.0%\n"
     ]
    }
   ],
   "source": [
    "#('R4', 'F1', 'M1')\n",
    "A = len(train_X[(train_X['Rcode'] == 4) & (train_X['Fcode'] == 1) & (train_X['Mcode'] == 1) & (train_X['Yes_Florence'] == 1)])\n",
    "B = len(train_X)\n",
    "C = A/B * 100\n",
    "print('Response rate when Rcode=4, Fcode=1 and Mcode=1 is: ' + str(C) + '%')"
   ]
  },
  {
   "cell_type": "code",
   "execution_count": 755,
   "metadata": {},
   "outputs": [
    {
     "name": "stdout",
     "output_type": "stream",
     "text": [
      "Response rate when Rcode=4, Fcode=1 and Mcode=2 is: 0.08333333333333334%\n"
     ]
    }
   ],
   "source": [
    "#('R4', 'F1', 'M2')\n",
    "A = len(train_X[(train_X['Rcode'] == 4) & (train_X['Fcode'] == 1) & (train_X['Mcode'] == 2) & (train_X['Yes_Florence'] == 1)])\n",
    "B = len(train_X)\n",
    "C = A/B * 100\n",
    "print('Response rate when Rcode=4, Fcode=1 and Mcode=2 is: ' + str(C) + '%')"
   ]
  },
  {
   "cell_type": "code",
   "execution_count": 756,
   "metadata": {},
   "outputs": [
    {
     "name": "stdout",
     "output_type": "stream",
     "text": [
      "Response rate when Rcode=4, Fcode=1 and Mcode=3 is: 0.4166666666666667%\n"
     ]
    }
   ],
   "source": [
    "#('R4', 'F1', 'M3')\n",
    "A = len(train_X[(train_X['Rcode'] == 4) & (train_X['Fcode'] == 1) & (train_X['Mcode'] == 3) & (train_X['Yes_Florence'] == 1)])\n",
    "B = len(train_X)\n",
    "C = A/B * 100\n",
    "print('Response rate when Rcode=4, Fcode=1 and Mcode=3 is: ' + str(C) + '%')"
   ]
  },
  {
   "cell_type": "code",
   "execution_count": 757,
   "metadata": {},
   "outputs": [
    {
     "name": "stdout",
     "output_type": "stream",
     "text": [
      "Response rate when Rcode=4, Fcode=1 and Mcode=4 is: 0.5%\n"
     ]
    }
   ],
   "source": [
    "#('R4', 'F1', 'M4')\n",
    "A = len(train_X[(train_X['Rcode'] == 4) & (train_X['Fcode'] == 1) & (train_X['Mcode'] == 4) & (train_X['Yes_Florence'] == 1)])\n",
    "B = len(train_X)\n",
    "C = A/B * 100\n",
    "print('Response rate when Rcode=4, Fcode=1 and Mcode=4 is: ' + str(C) + '%')"
   ]
  },
  {
   "cell_type": "code",
   "execution_count": 758,
   "metadata": {},
   "outputs": [
    {
     "name": "stdout",
     "output_type": "stream",
     "text": [
      "Response rate when Rcode=4, Fcode=1 and Mcode=5 is: 0.25%\n"
     ]
    }
   ],
   "source": [
    "#('R4', 'F1', 'M5')\n",
    "A = len(train_X[(train_X['Rcode'] == 4) & (train_X['Fcode'] == 1) & (train_X['Mcode'] == 5) & (train_X['Yes_Florence'] == 1)])\n",
    "B = len(train_X)\n",
    "C = A/B * 100\n",
    "print('Response rate when Rcode=4, Fcode=1 and Mcode=5 is: ' + str(C) + '%')"
   ]
  },
  {
   "cell_type": "code",
   "execution_count": 759,
   "metadata": {},
   "outputs": [
    {
     "name": "stdout",
     "output_type": "stream",
     "text": [
      "Response rate when Rcode=4, Fcode=2 and Mcode=1 is: 0.0%\n"
     ]
    }
   ],
   "source": [
    "#('R4', 'F2', 'M1')\n",
    "A = len(train_X[(train_X['Rcode'] == 4) & (train_X['Fcode'] == 2) & (train_X['Mcode'] == 1) & (train_X['Yes_Florence'] == 1)])\n",
    "B = len(train_X)\n",
    "C = A/B * 100\n",
    "print('Response rate when Rcode=4, Fcode=2 and Mcode=1 is: ' + str(C) + '%')"
   ]
  },
  {
   "cell_type": "code",
   "execution_count": 760,
   "metadata": {},
   "outputs": [
    {
     "name": "stdout",
     "output_type": "stream",
     "text": [
      "Response rate when Rcode=4, Fcode=2 and Mcode=2 is: 0.04166666666666667%\n"
     ]
    }
   ],
   "source": [
    "#('R4', 'F2', 'M2')\n",
    "A = len(train_X[(train_X['Rcode'] == 4) & (train_X['Fcode'] == 2) & (train_X['Mcode'] == 2) & (train_X['Yes_Florence'] == 1)])\n",
    "B = len(train_X)\n",
    "C = A/B * 100\n",
    "print('Response rate when Rcode=4, Fcode=2 and Mcode=2 is: ' + str(C) + '%')"
   ]
  },
  {
   "cell_type": "code",
   "execution_count": 761,
   "metadata": {},
   "outputs": [
    {
     "name": "stdout",
     "output_type": "stream",
     "text": [
      "Response rate when Rcode=4, Fcode=2 and Mcode=3 is: 0.08333333333333334%\n"
     ]
    }
   ],
   "source": [
    "#('R4', 'F2', 'M3')\n",
    "A = len(train_X[(train_X['Rcode'] == 4) & (train_X['Fcode'] == 2) & (train_X['Mcode'] == 3) & (train_X['Yes_Florence'] == 1)])\n",
    "B = len(train_X)\n",
    "C = A/B * 100\n",
    "print('Response rate when Rcode=4, Fcode=2 and Mcode=3 is: ' + str(C) + '%')"
   ]
  },
  {
   "cell_type": "code",
   "execution_count": 762,
   "metadata": {},
   "outputs": [
    {
     "name": "stdout",
     "output_type": "stream",
     "text": [
      "Response rate when Rcode=4, Fcode=2 and Mcode=4 is: 0.25%\n"
     ]
    }
   ],
   "source": [
    "#('R4', 'F2', 'M4')\n",
    "A = len(train_X[(train_X['Rcode'] == 4) & (train_X['Fcode'] == 2) & (train_X['Mcode'] == 4) & (train_X['Yes_Florence'] == 1)])\n",
    "B = len(train_X)\n",
    "C = A/B * 100\n",
    "print('Response rate when Rcode=4, Fcode=2 and Mcode=4 is: ' + str(C) + '%')"
   ]
  },
  {
   "cell_type": "code",
   "execution_count": 763,
   "metadata": {},
   "outputs": [
    {
     "name": "stdout",
     "output_type": "stream",
     "text": [
      "Response rate when Rcode=4, Fcode=2 and Mcode=5 is: 0.4583333333333333%\n"
     ]
    }
   ],
   "source": [
    "#('R4', 'F2', 'M5')\n",
    "A = len(train_X[(train_X['Rcode'] == 4) & (train_X['Fcode'] == 2) & (train_X['Mcode'] == 5) & (train_X['Yes_Florence'] == 1)])\n",
    "B = len(train_X)\n",
    "C = A/B * 100\n",
    "print('Response rate when Rcode=4, Fcode=2 and Mcode=5 is: ' + str(C) + '%')"
   ]
  },
  {
   "cell_type": "code",
   "execution_count": 764,
   "metadata": {},
   "outputs": [
    {
     "name": "stdout",
     "output_type": "stream",
     "text": [
      "Response rate when Rcode=4, Fcode=3 and Mcode=1 is: 0.0%\n"
     ]
    }
   ],
   "source": [
    "#('R4', 'F3', 'M1')\n",
    "A = len(train_X[(train_X['Rcode'] == 4) & (train_X['Fcode'] == 3) & (train_X['Mcode'] == 1) & (train_X['Yes_Florence'] == 1)])\n",
    "B = len(train_X)\n",
    "C = A/B * 100\n",
    "print('Response rate when Rcode=4, Fcode=3 and Mcode=1 is: ' + str(C) + '%')"
   ]
  },
  {
   "cell_type": "code",
   "execution_count": 765,
   "metadata": {},
   "outputs": [
    {
     "name": "stdout",
     "output_type": "stream",
     "text": [
      "Response rate when Rcode=4, Fcode=3 and Mcode=2 is: 0.0%\n"
     ]
    }
   ],
   "source": [
    "#('R4', 'F3', 'M2')\n",
    "A = len(train_X[(train_X['Rcode'] == 4) & (train_X['Fcode'] == 3) & (train_X['Mcode'] == 2) & (train_X['Yes_Florence'] == 1)])\n",
    "B = len(train_X)\n",
    "C = A/B * 100\n",
    "print('Response rate when Rcode=4, Fcode=3 and Mcode=2 is: ' + str(C) + '%')"
   ]
  },
  {
   "cell_type": "code",
   "execution_count": 766,
   "metadata": {},
   "outputs": [
    {
     "name": "stdout",
     "output_type": "stream",
     "text": [
      "Response rate when Rcode=4, Fcode=3 and Mcode=3 is: 0.08333333333333334%\n"
     ]
    }
   ],
   "source": [
    "#('R4', 'F3', 'M3')\n",
    "A = len(train_X[(train_X['Rcode'] == 4) & (train_X['Fcode'] == 3) & (train_X['Mcode'] == 3) & (train_X['Yes_Florence'] == 1)])\n",
    "B = len(train_X)\n",
    "C = A/B * 100\n",
    "print('Response rate when Rcode=4, Fcode=3 and Mcode=3 is: ' + str(C) + '%')"
   ]
  },
  {
   "cell_type": "code",
   "execution_count": 767,
   "metadata": {},
   "outputs": [
    {
     "name": "stdout",
     "output_type": "stream",
     "text": [
      "Response rate when Rcode=4, Fcode=3 and Mcode=4 is: 0.4166666666666667%\n"
     ]
    }
   ],
   "source": [
    "#('R4', 'F3', 'M4')\n",
    "A = len(train_X[(train_X['Rcode'] == 4) & (train_X['Fcode'] == 3) & (train_X['Mcode'] == 4) & (train_X['Yes_Florence'] == 1)])\n",
    "B = len(train_X)\n",
    "C = A/B * 100\n",
    "print('Response rate when Rcode=4, Fcode=3 and Mcode=4 is: ' + str(C) + '%')"
   ]
  },
  {
   "cell_type": "code",
   "execution_count": 768,
   "metadata": {},
   "outputs": [
    {
     "name": "stdout",
     "output_type": "stream",
     "text": [
      "Response rate when Rcode=4, Fcode=3 and Mcode=5 is: 0.8750000000000001%\n"
     ]
    }
   ],
   "source": [
    "#('R4', 'F3', 'M5')\n",
    "A = len(train_X[(train_X['Rcode'] == 4) & (train_X['Fcode'] == 3) & (train_X['Mcode'] == 5) & (train_X['Yes_Florence'] == 1)])\n",
    "B = len(train_X)\n",
    "C = A/B * 100\n",
    "print('Response rate when Rcode=4, Fcode=3 and Mcode=5 is: ' + str(C) + '%')"
   ]
  },
  {
   "cell_type": "markdown",
   "metadata": {},
   "source": [
    "The combination with a response rate in the training data that is above the overall response in the training data \n",
    "is the combination with Rcode=4, Fcode=3 and Mcode=5"
   ]
  },
  {
   "cell_type": "code",
   "execution_count": 769,
   "metadata": {},
   "outputs": [
    {
     "name": "stdout",
     "output_type": "stream",
     "text": [
      "The average response rate for the 60 combinations in the training data is 0.1472\n"
     ]
    }
   ],
   "source": [
    "print('The average response rate for the 60 combinations in the training data is 0.1472')"
   ]
  },
  {
   "cell_type": "markdown",
   "metadata": {},
   "source": [
    "The above average RFM combinations in the training data are: R1F1M5, R1F3M5, R2F1M5, R2F2M3, R2F2M4, R2F3M4, R2F3M5, R3F1M5, R3F2M5,\n",
    "R3F3M4, R3F3M5, R4F1M3, R4F1M4,, R4F1M5, R4F2M5, R4F3M4 and R4F3M5"
   ]
  },
  {
   "cell_type": "code",
   "execution_count": 770,
   "metadata": {},
   "outputs": [
    {
     "name": "stdout",
     "output_type": "stream",
     "text": [
      "Response rate when Rcode=1, Fcode=1 and Mcode=5 is: 0.0%\n"
     ]
    }
   ],
   "source": [
    "#Response rate in the validation data using the above combinations\n",
    "#('R1', 'F1', 'M5')\n",
    "A = len(valid_X[(valid_X['Rcode'] == 1) & (valid_X['Fcode'] == 1) & (valid_X['Mcode'] == 5) & (valid_X['Yes_Florence'] == 1)])\n",
    "B = len(valid_X)\n",
    "C = A/B * 100\n",
    "print('Response rate when Rcode=1, Fcode=1 and Mcode=5 is: ' + str(C) + '%')"
   ]
  },
  {
   "cell_type": "code",
   "execution_count": 771,
   "metadata": {},
   "outputs": [
    {
     "name": "stdout",
     "output_type": "stream",
     "text": [
      "Response rate when Rcode=1, Fcode=3 and Mcode=5 is: 0.375%\n"
     ]
    }
   ],
   "source": [
    "#('R1', 'F3', 'M5')\n",
    "A = len(valid_X[(valid_X['Rcode'] == 1) & (valid_X['Fcode'] == 3) & (valid_X['Mcode'] == 5) & (valid_X['Yes_Florence'] == 1)])\n",
    "B = len(valid_X)\n",
    "C = A/B * 100\n",
    "print('Response rate when Rcode=1, Fcode=3 and Mcode=5 is: ' + str(C) + '%')"
   ]
  },
  {
   "cell_type": "code",
   "execution_count": 772,
   "metadata": {},
   "outputs": [
    {
     "name": "stdout",
     "output_type": "stream",
     "text": [
      "Response rate when Rcode=2, Fcode=1 and Mcode=5 is: 0.0625%\n"
     ]
    }
   ],
   "source": [
    "#('R2', 'F1', 'M5')\n",
    "A = len(valid_X[(valid_X['Rcode'] == 2) & (valid_X['Fcode'] == 1) & (valid_X['Mcode'] == 5) & (valid_X['Yes_Florence'] == 1)])\n",
    "B = len(valid_X)\n",
    "C = A/B * 100\n",
    "print('Response rate when Rcode=2, Fcode=1 and Mcode=5 is: ' + str(C) + '%')"
   ]
  },
  {
   "cell_type": "code",
   "execution_count": 773,
   "metadata": {},
   "outputs": [
    {
     "name": "stdout",
     "output_type": "stream",
     "text": [
      "Response rate when Rcode=1, Fcode=3 and Mcode=5 is: 0.375%\n"
     ]
    }
   ],
   "source": [
    "#('R1', 'F3', 'M5')\n",
    "A = len(valid_X[(valid_X['Rcode'] == 1) & (valid_X['Fcode'] == 3) & (valid_X['Mcode'] == 5) & (valid_X['Yes_Florence'] == 1)])\n",
    "B = len(valid_X)\n",
    "C = A/B * 100\n",
    "print('Response rate when Rcode=1, Fcode=3 and Mcode=5 is: ' + str(C) + '%')"
   ]
  },
  {
   "cell_type": "code",
   "execution_count": 774,
   "metadata": {},
   "outputs": [
    {
     "name": "stdout",
     "output_type": "stream",
     "text": [
      "Response rate when Rcode=2, Fcode=2 and Mcode=4 is: 0.0625%\n"
     ]
    }
   ],
   "source": [
    "#('R2', 'F2', 'M4')\n",
    "A = len(valid_X[(valid_X['Rcode'] == 2) & (valid_X['Fcode'] == 2) & (valid_X['Mcode'] == 4) & (valid_X['Yes_Florence'] == 1)])\n",
    "B = len(valid_X)\n",
    "C = A/B * 100\n",
    "print('Response rate when Rcode=2, Fcode=2 and Mcode=4 is: ' + str(C) + '%')"
   ]
  },
  {
   "cell_type": "code",
   "execution_count": 775,
   "metadata": {},
   "outputs": [
    {
     "name": "stdout",
     "output_type": "stream",
     "text": [
      "Response rate when Rcode=2, Fcode=3 and Mcode=4 is: 0.0625%\n"
     ]
    }
   ],
   "source": [
    "#('R2', 'F3', 'M4')\n",
    "A = len(valid_X[(valid_X['Rcode'] == 2) & (valid_X['Fcode'] == 3) & (valid_X['Mcode'] == 4) & (valid_X['Yes_Florence'] == 1)])\n",
    "B = len(valid_X)\n",
    "C = A/B * 100\n",
    "print('Response rate when Rcode=2, Fcode=3 and Mcode=4 is: ' + str(C) + '%')"
   ]
  },
  {
   "cell_type": "code",
   "execution_count": 776,
   "metadata": {},
   "outputs": [
    {
     "name": "stdout",
     "output_type": "stream",
     "text": [
      "Response rate when Rcode=2, Fcode=3 and Mcode=5 is: 0.375%\n"
     ]
    }
   ],
   "source": [
    "#('R2','F3', 'M5')\n",
    "A = len(valid_X[(valid_X['Rcode'] == 2) & (valid_X['Fcode'] == 3) & (valid_X['Mcode'] == 5) & (valid_X['Yes_Florence'] == 1)])\n",
    "B = len(valid_X)\n",
    "C = A/B * 100\n",
    "print('Response rate when Rcode=2, Fcode=3 and Mcode=5 is: ' + str(C) + '%')"
   ]
  },
  {
   "cell_type": "code",
   "execution_count": 777,
   "metadata": {},
   "outputs": [
    {
     "name": "stdout",
     "output_type": "stream",
     "text": [
      "Response rate when Rcode=3, Fcode=1 and Mcode=5 is: 0.1875%\n"
     ]
    }
   ],
   "source": [
    "#R3F1M5 \n",
    "A = len(valid_X[(valid_X['Rcode'] == 3) & (valid_X['Fcode'] == 1) & (valid_X['Mcode'] == 5) & (valid_X['Yes_Florence'] == 1)])\n",
    "B = len(valid_X)\n",
    "C = A/B * 100\n",
    "print('Response rate when Rcode=3, Fcode=1 and Mcode=5 is: ' + str(C) + '%')"
   ]
  },
  {
   "cell_type": "code",
   "execution_count": 778,
   "metadata": {},
   "outputs": [
    {
     "name": "stdout",
     "output_type": "stream",
     "text": [
      "Response rate when Rcode=3, Fcode=2 and Mcode=5 is: 0.1875%\n"
     ]
    }
   ],
   "source": [
    "#R3F2M5 \n",
    "A = len(valid_X[(valid_X['Rcode'] == 3) & (valid_X['Fcode'] == 2) & (valid_X['Mcode'] == 5) & (valid_X['Yes_Florence'] == 1)])\n",
    "B = len(valid_X)\n",
    "C = A/B * 100\n",
    "print('Response rate when Rcode=3, Fcode=2 and Mcode=5 is: ' + str(C) + '%')"
   ]
  },
  {
   "cell_type": "code",
   "execution_count": 779,
   "metadata": {},
   "outputs": [
    {
     "name": "stdout",
     "output_type": "stream",
     "text": [
      "Response rate when Rcode=3, Fcode=3 and Mcode=4 is: 0.3125%\n"
     ]
    }
   ],
   "source": [
    "#R3F3M4 \n",
    "A = len(valid_X[(valid_X['Rcode'] == 3) & (valid_X['Fcode'] == 3) & (valid_X['Mcode'] == 4) & (valid_X['Yes_Florence'] == 1)])\n",
    "B = len(valid_X)\n",
    "C = A/B * 100\n",
    "print('Response rate when Rcode=3, Fcode=3 and Mcode=4 is: ' + str(C) + '%')"
   ]
  },
  {
   "cell_type": "code",
   "execution_count": 780,
   "metadata": {},
   "outputs": [
    {
     "name": "stdout",
     "output_type": "stream",
     "text": [
      "Response rate when Rcode=3, Fcode=3 and Mcode=5 is: 1.5%\n"
     ]
    }
   ],
   "source": [
    "#R3F3M5\n",
    "A = len(valid_X[(valid_X['Rcode'] == 3) & (valid_X['Fcode'] == 3) & (valid_X['Mcode'] == 5) & (valid_X['Yes_Florence'] == 1)])\n",
    "B = len(valid_X)\n",
    "C = A/B * 100\n",
    "print('Response rate when Rcode=3, Fcode=3 and Mcode=5 is: ' + str(C) + '%')"
   ]
  },
  {
   "cell_type": "code",
   "execution_count": 781,
   "metadata": {},
   "outputs": [
    {
     "name": "stdout",
     "output_type": "stream",
     "text": [
      "Response rate when Rcode=4, Fcode=1 and Mcode=3 is: 0.125%\n"
     ]
    }
   ],
   "source": [
    "#R4F1M3 \n",
    "A = len(valid_X[(valid_X['Rcode'] == 4) & (valid_X['Fcode'] == 1) & (valid_X['Mcode'] == 3) & (valid_X['Yes_Florence'] == 1)])\n",
    "B = len(valid_X)\n",
    "C = A/B * 100\n",
    "print('Response rate when Rcode=4, Fcode=1 and Mcode=3 is: ' + str(C) + '%')"
   ]
  },
  {
   "cell_type": "code",
   "execution_count": 782,
   "metadata": {},
   "outputs": [
    {
     "name": "stdout",
     "output_type": "stream",
     "text": [
      "Response rate when Rcode=4, Fcode=1 and Mcode=4 is: 0.125%\n"
     ]
    }
   ],
   "source": [
    "#R4F1M4\n",
    "A = len(valid_X[(valid_X['Rcode'] == 4) & (valid_X['Fcode'] == 1) & (valid_X['Mcode'] == 4) & (valid_X['Yes_Florence'] == 1)])\n",
    "B = len(valid_X)\n",
    "C = A/B * 100\n",
    "print('Response rate when Rcode=4, Fcode=1 and Mcode=4 is: ' + str(C) + '%')"
   ]
  },
  {
   "cell_type": "code",
   "execution_count": 783,
   "metadata": {},
   "outputs": [
    {
     "name": "stdout",
     "output_type": "stream",
     "text": [
      "Response rate when Rcode=4, Fcode=1 and Mcode=5 is: 0.43750000000000006%\n"
     ]
    }
   ],
   "source": [
    "#R4F1M5\n",
    "A = len(valid_X[(valid_X['Rcode'] == 4) & (valid_X['Fcode'] == 1) & (valid_X['Mcode'] == 5) & (valid_X['Yes_Florence'] == 1)])\n",
    "B = len(valid_X)\n",
    "C = A/B * 100\n",
    "print('Response rate when Rcode=4, Fcode=1 and Mcode=5 is: ' + str(C) + '%')"
   ]
  },
  {
   "cell_type": "code",
   "execution_count": 784,
   "metadata": {},
   "outputs": [
    {
     "name": "stdout",
     "output_type": "stream",
     "text": [
      "Response rate when Rcode=4, Fcode=2 and Mcode=5 is: 0.375%\n"
     ]
    }
   ],
   "source": [
    "#R4F2M5\n",
    "A = len(valid_X[(valid_X['Rcode'] == 4) & (valid_X['Fcode'] == 2) & (valid_X['Mcode'] == 5) & (valid_X['Yes_Florence'] == 1)])\n",
    "B = len(valid_X)\n",
    "C = A/B * 100\n",
    "print('Response rate when Rcode=4, Fcode=2 and Mcode=5 is: ' + str(C) + '%')"
   ]
  },
  {
   "cell_type": "code",
   "execution_count": 785,
   "metadata": {},
   "outputs": [
    {
     "name": "stdout",
     "output_type": "stream",
     "text": [
      "Response rate when Rcode=4, Fcode=3 and Mcode=4 is: 0.3125%\n"
     ]
    }
   ],
   "source": [
    "#R4F3M4 \n",
    "A = len(valid_X[(valid_X['Rcode'] == 4) & (valid_X['Fcode'] == 3) & (valid_X['Mcode'] == 4) & (valid_X['Yes_Florence'] == 1)])\n",
    "B = len(valid_X)\n",
    "C = A/B * 100\n",
    "print('Response rate when Rcode=4, Fcode=3 and Mcode=4 is: ' + str(C) + '%')"
   ]
  },
  {
   "cell_type": "code",
   "execution_count": 786,
   "metadata": {},
   "outputs": [
    {
     "name": "stdout",
     "output_type": "stream",
     "text": [
      "Response rate when Rcode=4, Fcode=3 and Mcode=5 is: 1.0625%\n"
     ]
    }
   ],
   "source": [
    "#R4F3M5\n",
    "A = len(valid_X[(valid_X['Rcode'] == 4) & (valid_X['Fcode'] == 3) & (valid_X['Mcode'] == 5) & (valid_X['Yes_Florence'] == 1)])\n",
    "B = len(valid_X)\n",
    "C = A/B * 100\n",
    "print('Response rate when Rcode=4, Fcode=3 and Mcode=5 is: ' + str(C) + '%')"
   ]
  },
  {
   "cell_type": "code",
   "execution_count": 787,
   "metadata": {},
   "outputs": [],
   "source": [
    "#SEGMENT 1\n",
    "##RFM combinations that have response rates that exceed 0.294 in the training data are R1F3M5, R2F3M4, R2F3M5, R3F3M5, R4F1M3,\n",
    "#R4F1M4,R4F2M5,R4F3M4,R4F3M5"
   ]
  },
  {
   "cell_type": "code",
   "execution_count": 788,
   "metadata": {},
   "outputs": [],
   "source": [
    "#SEGMENT2\n",
    "#RFM combinations that have response rates that  exceed 0.147 but do not exceed 0.294 in the training data are:"
   ]
  },
  {
   "cell_type": "code",
   "execution_count": 789,
   "metadata": {},
   "outputs": [],
   "source": [
    "#SEGMMENT 3\n",
    "#The remaining RFM combinations are:"
   ]
  },
  {
   "cell_type": "code",
   "execution_count": 790,
   "metadata": {},
   "outputs": [],
   "source": [
    "#Apply the results from segments 1-3 to part 2"
   ]
  },
  {
   "cell_type": "code",
   "execution_count": 791,
   "metadata": {},
   "outputs": [],
   "source": [
    "CBC['Number'] = CBC.index + 1 "
   ]
  },
  {
   "cell_type": "code",
   "execution_count": 792,
   "metadata": {},
   "outputs": [],
   "source": [
    "CBC.drop(['Seq#', 'ID#'], axis = 1, inplace = True)"
   ]
  },
  {
   "cell_type": "code",
   "execution_count": 793,
   "metadata": {},
   "outputs": [
    {
     "name": "stdout",
     "output_type": "stream",
     "text": [
      "(2400, 23) (1600, 23)\n"
     ]
    }
   ],
   "source": [
    "trainData, validData = train_test_split(CBC, test_size = 0.4, random_state = 1)\n",
    "print(trainData.shape, validData.shape)"
   ]
  },
  {
   "cell_type": "code",
   "execution_count": 794,
   "metadata": {},
   "outputs": [],
   "source": [
    "scaler = preprocessing.StandardScaler()\n",
    "scaler.fit(trainData[['R', 'F', 'M', 'FirstPurch', 'Related Purchase']])  # Note the use of an array of column names\n",
    "\n",
    "#Transform the full dataset\n",
    "CBCNorm = pd.concat([pd.DataFrame(scaler.transform(CBC[['R', 'F', 'M', 'FirstPurch', 'Related Purchase']]),\n",
    "                                  columns = ['zR', 'zF', 'zM', 'zFirstPurch', 'zRelated Purchase']),\n",
    "                                   CBC[['Florence', 'Number']]], axis = 1)\n",
    "trainNorm = CBCNorm.iloc[trainData.index]\n",
    "validNorm = CBCNorm.iloc[validData.index]"
   ]
  },
  {
   "cell_type": "code",
   "execution_count": 795,
   "metadata": {},
   "outputs": [
    {
     "data": {
      "text/html": [
       "<div>\n",
       "<style scoped>\n",
       "    .dataframe tbody tr th:only-of-type {\n",
       "        vertical-align: middle;\n",
       "    }\n",
       "\n",
       "    .dataframe tbody tr th {\n",
       "        vertical-align: top;\n",
       "    }\n",
       "\n",
       "    .dataframe thead th {\n",
       "        text-align: right;\n",
       "    }\n",
       "</style>\n",
       "<table border=\"1\" class=\"dataframe\">\n",
       "  <thead>\n",
       "    <tr style=\"text-align: right;\">\n",
       "      <th></th>\n",
       "      <th>zR</th>\n",
       "      <th>zF</th>\n",
       "      <th>zM</th>\n",
       "      <th>zFirstPurch</th>\n",
       "      <th>zRelated Purchase</th>\n",
       "      <th>Florence</th>\n",
       "      <th>Number</th>\n",
       "    </tr>\n",
       "  </thead>\n",
       "  <tbody>\n",
       "    <tr>\n",
       "      <th>3999</th>\n",
       "      <td>-0.417289</td>\n",
       "      <td>-0.526337</td>\n",
       "      <td>-0.905340</td>\n",
       "      <td>-0.784969</td>\n",
       "      <td>0.112519</td>\n",
       "      <td>0</td>\n",
       "      <td>4000</td>\n",
       "    </tr>\n",
       "    <tr>\n",
       "      <th>2745</th>\n",
       "      <td>2.033746</td>\n",
       "      <td>0.349270</td>\n",
       "      <td>-0.549372</td>\n",
       "      <td>0.857178</td>\n",
       "      <td>1.784631</td>\n",
       "      <td>0</td>\n",
       "      <td>2746</td>\n",
       "    </tr>\n",
       "    <tr>\n",
       "      <th>492</th>\n",
       "      <td>0.808229</td>\n",
       "      <td>1.224876</td>\n",
       "      <td>1.645760</td>\n",
       "      <td>2.170895</td>\n",
       "      <td>1.784631</td>\n",
       "      <td>0</td>\n",
       "      <td>493</td>\n",
       "    </tr>\n",
       "    <tr>\n",
       "      <th>961</th>\n",
       "      <td>1.298436</td>\n",
       "      <td>-0.818206</td>\n",
       "      <td>-1.201979</td>\n",
       "      <td>-0.128110</td>\n",
       "      <td>-0.723537</td>\n",
       "      <td>0</td>\n",
       "      <td>962</td>\n",
       "    </tr>\n",
       "    <tr>\n",
       "      <th>2939</th>\n",
       "      <td>-0.662392</td>\n",
       "      <td>-0.818206</td>\n",
       "      <td>0.607522</td>\n",
       "      <td>-1.003922</td>\n",
       "      <td>-0.723537</td>\n",
       "      <td>0</td>\n",
       "      <td>2940</td>\n",
       "    </tr>\n",
       "  </tbody>\n",
       "</table>\n",
       "</div>"
      ],
      "text/plain": [
       "            zR        zF        zM  zFirstPurch  zRelated Purchase  Florence  \\\n",
       "3999 -0.417289 -0.526337 -0.905340    -0.784969           0.112519         0   \n",
       "2745  2.033746  0.349270 -0.549372     0.857178           1.784631         0   \n",
       "492   0.808229  1.224876  1.645760     2.170895           1.784631         0   \n",
       "961   1.298436 -0.818206 -1.201979    -0.128110          -0.723537         0   \n",
       "2939 -0.662392 -0.818206  0.607522    -1.003922          -0.723537         0   \n",
       "\n",
       "      Number  \n",
       "3999    4000  \n",
       "2745    2746  \n",
       "492      493  \n",
       "961      962  \n",
       "2939    2940  "
      ]
     },
     "execution_count": 795,
     "metadata": {},
     "output_type": "execute_result"
    }
   ],
   "source": [
    "trainNorm.head()"
   ]
  },
  {
   "cell_type": "code",
   "execution_count": 796,
   "metadata": {},
   "outputs": [
    {
     "name": "stdout",
     "output_type": "stream",
     "text": [
      "     k  accuracy\n",
      "0    1  0.846250\n",
      "1    2  0.912500\n",
      "2    3  0.895625\n",
      "3    4  0.917500\n",
      "4    5  0.913750\n",
      "5    6  0.919375\n",
      "6    7  0.916875\n",
      "7    8  0.918750\n",
      "8    9  0.916875\n",
      "9   10  0.920000\n",
      "10  11  0.918750\n"
     ]
    }
   ],
   "source": [
    "train_X = trainNorm[['zR', 'zF', 'zM', 'zFirstPurch', 'zRelated Purchase']]\n",
    "train_y = trainNorm['Florence']\n",
    "valid_X = validNorm[['zR', 'zF', 'zM', 'zFirstPurch', 'zRelated Purchase']]\n",
    "valid_y = validNorm['Florence']\n",
    "\n",
    "# Train a classifier for different values of k\n",
    "results = []\n",
    "for k in range(1, 12):\n",
    "    knn = KNeighborsClassifier(n_neighbors=k).fit(train_X, train_y)\n",
    "    results.append({\n",
    "        'k': k,\n",
    "        'accuracy': accuracy_score(valid_y, knn.predict(valid_X))\n",
    "    })\n",
    "\n",
    "# Convert results to a pandas data frame\n",
    "results = pd.DataFrame(results)\n",
    "print(results)"
   ]
  },
  {
   "cell_type": "markdown",
   "metadata": {},
   "source": [
    "The best k model is when k = 10"
   ]
  },
  {
   "cell_type": "code",
   "execution_count": 803,
   "metadata": {},
   "outputs": [],
   "source": [
    "knn = KNeighborsClassifier(n_neighbors = 10).fit(train_X, train_y)\n",
    "knn_pred = knn.predict(valid_X)\n",
    "#knn_pred = pd.DataFrame(knn_pred, index = valid_y.index)"
   ]
  },
  {
   "cell_type": "code",
   "execution_count": 1,
   "metadata": {},
   "outputs": [],
   "source": [
    "##Create a lift curve for k = 10 model, and report the expected lift for an equal number of customers \n",
    "#from the validation dataset"
   ]
  }
 ],
 "metadata": {
  "kernelspec": {
   "display_name": "Python 3",
   "language": "python",
   "name": "python3"
  },
  "language_info": {
   "codemirror_mode": {
    "name": "ipython",
    "version": 3
   },
   "file_extension": ".py",
   "mimetype": "text/x-python",
   "name": "python",
   "nbconvert_exporter": "python",
   "pygments_lexer": "ipython3",
   "version": "3.7.6"
  }
 },
 "nbformat": 4,
 "nbformat_minor": 4
}
