{
 "cells": [
  {
   "cell_type": "code",
   "execution_count": 1,
   "metadata": {},
   "outputs": [],
   "source": [
    "%matplotlib inline\n",
    "import pandas as pd\n",
    "import numpy as np"
   ]
  },
  {
   "cell_type": "code",
   "execution_count": 3,
   "metadata": {},
   "outputs": [],
   "source": [
    "tx = pd.read_csv('Taxi-cancellation-case.csv')"
   ]
  },
  {
   "cell_type": "code",
   "execution_count": 4,
   "metadata": {},
   "outputs": [
    {
     "data": {
      "text/html": [
       "<div>\n",
       "<style scoped>\n",
       "    .dataframe tbody tr th:only-of-type {\n",
       "        vertical-align: middle;\n",
       "    }\n",
       "\n",
       "    .dataframe tbody tr th {\n",
       "        vertical-align: top;\n",
       "    }\n",
       "\n",
       "    .dataframe thead th {\n",
       "        text-align: right;\n",
       "    }\n",
       "</style>\n",
       "<table border=\"1\" class=\"dataframe\">\n",
       "  <thead>\n",
       "    <tr style=\"text-align: right;\">\n",
       "      <th></th>\n",
       "      <th>row#</th>\n",
       "      <th>user_id</th>\n",
       "      <th>vehicle_model_id</th>\n",
       "      <th>package_id</th>\n",
       "      <th>travel_type_id</th>\n",
       "      <th>from_area_id</th>\n",
       "      <th>to_area_id</th>\n",
       "      <th>from_city_id</th>\n",
       "      <th>to_city_id</th>\n",
       "      <th>from_date</th>\n",
       "      <th>to_date</th>\n",
       "      <th>online_booking</th>\n",
       "      <th>mobile_site_booking</th>\n",
       "      <th>booking_created</th>\n",
       "      <th>from_lat</th>\n",
       "      <th>from_long</th>\n",
       "      <th>to_lat</th>\n",
       "      <th>to_long</th>\n",
       "      <th>Car_Cancellation</th>\n",
       "    </tr>\n",
       "  </thead>\n",
       "  <tbody>\n",
       "    <tr>\n",
       "      <th>0</th>\n",
       "      <td>1</td>\n",
       "      <td>17712</td>\n",
       "      <td>12</td>\n",
       "      <td>NaN</td>\n",
       "      <td>2</td>\n",
       "      <td>1021.0</td>\n",
       "      <td>1323.0</td>\n",
       "      <td>NaN</td>\n",
       "      <td>NaN</td>\n",
       "      <td>1/1/13 22:33</td>\n",
       "      <td>NaN</td>\n",
       "      <td>0</td>\n",
       "      <td>0</td>\n",
       "      <td>1/1/13 8:01</td>\n",
       "      <td>13.028530</td>\n",
       "      <td>77.54625</td>\n",
       "      <td>12.869805</td>\n",
       "      <td>77.653211</td>\n",
       "      <td>0</td>\n",
       "    </tr>\n",
       "    <tr>\n",
       "      <th>1</th>\n",
       "      <td>2</td>\n",
       "      <td>17037</td>\n",
       "      <td>12</td>\n",
       "      <td>NaN</td>\n",
       "      <td>2</td>\n",
       "      <td>455.0</td>\n",
       "      <td>1330.0</td>\n",
       "      <td>NaN</td>\n",
       "      <td>NaN</td>\n",
       "      <td>1/1/13 12:43</td>\n",
       "      <td>NaN</td>\n",
       "      <td>0</td>\n",
       "      <td>0</td>\n",
       "      <td>1/1/13 9:59</td>\n",
       "      <td>12.999874</td>\n",
       "      <td>77.67812</td>\n",
       "      <td>12.953434</td>\n",
       "      <td>77.706510</td>\n",
       "      <td>0</td>\n",
       "    </tr>\n",
       "    <tr>\n",
       "      <th>2</th>\n",
       "      <td>3</td>\n",
       "      <td>761</td>\n",
       "      <td>12</td>\n",
       "      <td>NaN</td>\n",
       "      <td>2</td>\n",
       "      <td>814.0</td>\n",
       "      <td>393.0</td>\n",
       "      <td>NaN</td>\n",
       "      <td>NaN</td>\n",
       "      <td>1/2/13 0:28</td>\n",
       "      <td>1/3/13 0:00</td>\n",
       "      <td>1</td>\n",
       "      <td>0</td>\n",
       "      <td>1/1/13 12:14</td>\n",
       "      <td>12.908993</td>\n",
       "      <td>77.68890</td>\n",
       "      <td>13.199560</td>\n",
       "      <td>77.706880</td>\n",
       "      <td>0</td>\n",
       "    </tr>\n",
       "    <tr>\n",
       "      <th>3</th>\n",
       "      <td>4</td>\n",
       "      <td>868</td>\n",
       "      <td>12</td>\n",
       "      <td>NaN</td>\n",
       "      <td>2</td>\n",
       "      <td>297.0</td>\n",
       "      <td>212.0</td>\n",
       "      <td>NaN</td>\n",
       "      <td>NaN</td>\n",
       "      <td>1/1/13 13:12</td>\n",
       "      <td>NaN</td>\n",
       "      <td>0</td>\n",
       "      <td>0</td>\n",
       "      <td>1/1/13 12:42</td>\n",
       "      <td>12.997890</td>\n",
       "      <td>77.61488</td>\n",
       "      <td>12.994740</td>\n",
       "      <td>77.607970</td>\n",
       "      <td>0</td>\n",
       "    </tr>\n",
       "    <tr>\n",
       "      <th>4</th>\n",
       "      <td>5</td>\n",
       "      <td>21716</td>\n",
       "      <td>28</td>\n",
       "      <td>NaN</td>\n",
       "      <td>2</td>\n",
       "      <td>1237.0</td>\n",
       "      <td>330.0</td>\n",
       "      <td>NaN</td>\n",
       "      <td>NaN</td>\n",
       "      <td>1/1/13 16:33</td>\n",
       "      <td>NaN</td>\n",
       "      <td>0</td>\n",
       "      <td>0</td>\n",
       "      <td>1/1/13 15:07</td>\n",
       "      <td>12.926450</td>\n",
       "      <td>77.61206</td>\n",
       "      <td>12.858833</td>\n",
       "      <td>77.589127</td>\n",
       "      <td>0</td>\n",
       "    </tr>\n",
       "  </tbody>\n",
       "</table>\n",
       "</div>"
      ],
      "text/plain": [
       "   row#  user_id  vehicle_model_id  package_id  travel_type_id  from_area_id  \\\n",
       "0     1    17712                12         NaN               2        1021.0   \n",
       "1     2    17037                12         NaN               2         455.0   \n",
       "2     3      761                12         NaN               2         814.0   \n",
       "3     4      868                12         NaN               2         297.0   \n",
       "4     5    21716                28         NaN               2        1237.0   \n",
       "\n",
       "   to_area_id  from_city_id  to_city_id     from_date      to_date  \\\n",
       "0      1323.0           NaN         NaN  1/1/13 22:33          NaN   \n",
       "1      1330.0           NaN         NaN  1/1/13 12:43          NaN   \n",
       "2       393.0           NaN         NaN   1/2/13 0:28  1/3/13 0:00   \n",
       "3       212.0           NaN         NaN  1/1/13 13:12          NaN   \n",
       "4       330.0           NaN         NaN  1/1/13 16:33          NaN   \n",
       "\n",
       "   online_booking  mobile_site_booking booking_created   from_lat  from_long  \\\n",
       "0               0                    0     1/1/13 8:01  13.028530   77.54625   \n",
       "1               0                    0     1/1/13 9:59  12.999874   77.67812   \n",
       "2               1                    0    1/1/13 12:14  12.908993   77.68890   \n",
       "3               0                    0    1/1/13 12:42  12.997890   77.61488   \n",
       "4               0                    0    1/1/13 15:07  12.926450   77.61206   \n",
       "\n",
       "      to_lat    to_long  Car_Cancellation  \n",
       "0  12.869805  77.653211                 0  \n",
       "1  12.953434  77.706510                 0  \n",
       "2  13.199560  77.706880                 0  \n",
       "3  12.994740  77.607970                 0  \n",
       "4  12.858833  77.589127                 0  "
      ]
     },
     "execution_count": 4,
     "metadata": {},
     "output_type": "execute_result"
    }
   ],
   "source": [
    "tx.head()"
   ]
  },
  {
   "cell_type": "code",
   "execution_count": 5,
   "metadata": {},
   "outputs": [
    {
     "data": {
      "text/plain": [
       "(10000, 19)"
      ]
     },
     "execution_count": 5,
     "metadata": {},
     "output_type": "execute_result"
    }
   ],
   "source": [
    "tx.shape"
   ]
  },
  {
   "cell_type": "code",
   "execution_count": 6,
   "metadata": {},
   "outputs": [
    {
     "data": {
      "text/plain": [
       "row#                              1\n",
       "user_id                       17712\n",
       "vehicle_model_id                 12\n",
       "package_id                      NaN\n",
       "travel_type_id                    2\n",
       "from_area_id                   1021\n",
       "to_area_id                     1323\n",
       "from_city_id                    NaN\n",
       "to_city_id                      NaN\n",
       "from_date              1/1/13 22:33\n",
       "to_date                         NaN\n",
       "online_booking                    0\n",
       "mobile_site_booking               0\n",
       "booking_created         1/1/13 8:01\n",
       "from_lat                    13.0285\n",
       "from_long                   77.5463\n",
       "to_lat                      12.8698\n",
       "to_long                     77.6532\n",
       "Car_Cancellation                  0\n",
       "Name: 0, dtype: object"
      ]
     },
     "execution_count": 6,
     "metadata": {},
     "output_type": "execute_result"
    }
   ],
   "source": [
    "tx.iloc[0]"
   ]
  },
  {
   "cell_type": "code",
   "execution_count": 7,
   "metadata": {},
   "outputs": [
    {
     "data": {
      "text/plain": [
       "row#                      0\n",
       "user_id                   0\n",
       "vehicle_model_id          0\n",
       "package_id             8248\n",
       "travel_type_id            0\n",
       "from_area_id             15\n",
       "to_area_id             2091\n",
       "from_city_id           6294\n",
       "to_city_id             9661\n",
       "from_date                 0\n",
       "to_date                4178\n",
       "online_booking            0\n",
       "mobile_site_booking       0\n",
       "booking_created           0\n",
       "from_lat                 15\n",
       "from_long                15\n",
       "to_lat                 2091\n",
       "to_long                2091\n",
       "Car_Cancellation          0\n",
       "dtype: int64"
      ]
     },
     "execution_count": 7,
     "metadata": {},
     "output_type": "execute_result"
    }
   ],
   "source": [
    "tx.isnull().sum()"
   ]
  },
  {
   "cell_type": "code",
   "execution_count": 8,
   "metadata": {},
   "outputs": [
    {
     "data": {
      "text/plain": [
       "array([0, 1], dtype=int64)"
      ]
     },
     "execution_count": 8,
     "metadata": {},
     "output_type": "execute_result"
    }
   ],
   "source": [
    "tx.Car_Cancellation.unique()"
   ]
  }
 ],
 "metadata": {
  "kernelspec": {
   "display_name": "Python 3",
   "language": "python",
   "name": "python3"
  },
  "language_info": {
   "codemirror_mode": {
    "name": "ipython",
    "version": 3
   },
   "file_extension": ".py",
   "mimetype": "text/x-python",
   "name": "python",
   "nbconvert_exporter": "python",
   "pygments_lexer": "ipython3",
   "version": "3.7.6"
  }
 },
 "nbformat": 4,
 "nbformat_minor": 4
}
